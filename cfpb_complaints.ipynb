{
 "cells": [
  {
   "cell_type": "markdown",
   "metadata": {},
   "source": [
    "# Exploratory Data Analysis\n",
    "## CFPB Complaints\n",
    "\n",
    "The purpose of this project is to download and explore a dataset using Python and associated libraries."
   ]
  },
  {
   "cell_type": "markdown",
   "metadata": {},
   "source": [
    "Exploratory analysis is usually undetaken without necessarily having any specific goals in mind or trying to solve a specific problem. However, having a few ideas or generating a few questions can be helpful in guiding along the exploratory process. These questions can evolve to be more specific or even chane as analysis is carried out.\n",
    "\n",
    "For these project, I am exploring a dataset about consumer complaints of finacial products and services collected by the Consumer Financial Protection Bureau (CFPB). The data can be downloaded from the [data.gov](https://www.data.gov) website which hosts the U.S Government's open data."
   ]
  },
  {
   "cell_type": "markdown",
   "metadata": {},
   "source": [
    "### Import Libraries"
   ]
  },
  {
   "cell_type": "code",
   "execution_count": 1,
   "metadata": {},
   "outputs": [],
   "source": [
    "%matplotlib inline\n",
    "\n",
    "import pandas as pd\n",
    "import numpy as np\n",
    "import json\n",
    "import requests\n",
    "from datetime import datetime\n",
    "import matplotlib.pyplot as plt\n",
    "import seaborn as sns\n",
    "import warnings"
   ]
  },
  {
   "cell_type": "code",
   "execution_count": 2,
   "metadata": {},
   "outputs": [],
   "source": [
    "warnings.simplefilter('ignore')\n",
    "pd.set_option('display.max_colwidth',1000) # Show complete text in dataframe without truncating."
   ]
  },
  {
   "cell_type": "markdown",
   "metadata": {},
   "source": [
    "### Gather"
   ]
  },
  {
   "cell_type": "markdown",
   "metadata": {},
   "source": [
    "Downloaded dataset manually as a csv file and saved it locally as the file is too large and is causing app to crash when I download automatically using the requests library. (should check this out to see why)"
   ]
  },
  {
   "cell_type": "code",
   "execution_count": 3,
   "metadata": {
    "scrolled": false
   },
   "outputs": [],
   "source": [
    "# Read csv file into Pandas DataFrame.\n",
    "complaints_df = pd.read_csv('Consumer_Complaints.csv', index_col=0, parse_dates=['Date received', 'Date sent to company'],\\\n",
    "            infer_datetime_format=True)\n"
   ]
  },
  {
   "cell_type": "code",
   "execution_count": 4,
   "metadata": {},
   "outputs": [],
   "source": [
    "# Rename column and index names.\n",
    "col_names = ['Product', 'sub_product', 'issue', 'sub_issue',\n",
    "       'consumer_complaint_narrative', 'company_public_response', 'company',\n",
    "       'state', 'zip', 'tags', 'consumer_consent_provided?',\n",
    "       'submitted_via', 'date_sent_to_company', 'company_response_to_consumer',\n",
    "       'timely_response?', 'consumer_disputed?', 'complaint_ID']\n",
    "\n",
    "complaints_df.columns = col_names\n",
    "complaints_df.index.name = 'date_received'"
   ]
  },
  {
   "cell_type": "code",
   "execution_count": 5,
   "metadata": {},
   "outputs": [
    {
     "data": {
      "text/plain": [
       "(932473, 17)"
      ]
     },
     "execution_count": 5,
     "metadata": {},
     "output_type": "execute_result"
    }
   ],
   "source": [
    "complaints_df.shape # Dataframe has 17 columns and 932,473 rows."
   ]
  },
  {
   "cell_type": "code",
   "execution_count": 6,
   "metadata": {},
   "outputs": [
    {
     "name": "stdout",
     "output_type": "stream",
     "text": [
      "<class 'pandas.core.frame.DataFrame'>\n",
      "DatetimeIndex: 932473 entries, 2014-03-12 to 2016-08-19\n",
      "Data columns (total 17 columns):\n",
      "Product                         932473 non-null object\n",
      "sub_product                     697303 non-null object\n",
      "issue                           932473 non-null object\n",
      "sub_issue                       450184 non-null object\n",
      "consumer_complaint_narrative    227328 non-null object\n",
      "company_public_response         271533 non-null object\n",
      "company                         932473 non-null object\n",
      "state                           922555 non-null object\n",
      "zip                             918556 non-null object\n",
      "tags                            129864 non-null object\n",
      "consumer_consent_provided?      410778 non-null object\n",
      "submitted_via                   932473 non-null object\n",
      "date_sent_to_company            932473 non-null datetime64[ns]\n",
      "company_response_to_consumer    932473 non-null object\n",
      "timely_response?                932473 non-null object\n",
      "consumer_disputed?              768570 non-null object\n",
      "complaint_ID                    932473 non-null int64\n",
      "dtypes: datetime64[ns](1), int64(1), object(15)\n",
      "memory usage: 128.1+ MB\n"
     ]
    }
   ],
   "source": [
    "complaints_df.info()"
   ]
  },
  {
   "cell_type": "code",
   "execution_count": 7,
   "metadata": {},
   "outputs": [
    {
     "data": {
      "text/plain": [
       "DatetimeIndex(['2014-03-12', '2016-10-01', '2016-10-17', '2014-06-08',\n",
       "               '2014-09-13', '2013-11-13', '2015-06-16', '2015-06-15',\n",
       "               '2015-11-13', '2014-10-21',\n",
       "               ...\n",
       "               '2015-09-17', '2014-02-11', '2016-11-09', '2016-01-22',\n",
       "               '2017-01-26', '2017-04-10', '2017-02-07', '2017-01-04',\n",
       "               '2015-09-28', '2016-08-19'],\n",
       "              dtype='datetime64[ns]', name='date_received', length=932473, freq=None)"
      ]
     },
     "execution_count": 7,
     "metadata": {},
     "output_type": "execute_result"
    }
   ],
   "source": [
    "complaints_df.index"
   ]
  },
  {
   "cell_type": "code",
   "execution_count": 8,
   "metadata": {},
   "outputs": [
    {
     "data": {
      "text/html": [
       "<div>\n",
       "<style scoped>\n",
       "    .dataframe tbody tr th:only-of-type {\n",
       "        vertical-align: middle;\n",
       "    }\n",
       "\n",
       "    .dataframe tbody tr th {\n",
       "        vertical-align: top;\n",
       "    }\n",
       "\n",
       "    .dataframe thead th {\n",
       "        text-align: right;\n",
       "    }\n",
       "</style>\n",
       "<table border=\"1\" class=\"dataframe\">\n",
       "  <thead>\n",
       "    <tr style=\"text-align: right;\">\n",
       "      <th></th>\n",
       "      <th>Product</th>\n",
       "      <th>sub_product</th>\n",
       "      <th>issue</th>\n",
       "      <th>sub_issue</th>\n",
       "      <th>consumer_complaint_narrative</th>\n",
       "      <th>company_public_response</th>\n",
       "      <th>company</th>\n",
       "      <th>state</th>\n",
       "      <th>zip</th>\n",
       "      <th>tags</th>\n",
       "      <th>consumer_consent_provided?</th>\n",
       "      <th>submitted_via</th>\n",
       "      <th>date_sent_to_company</th>\n",
       "      <th>company_response_to_consumer</th>\n",
       "      <th>timely_response?</th>\n",
       "      <th>consumer_disputed?</th>\n",
       "      <th>complaint_ID</th>\n",
       "    </tr>\n",
       "    <tr>\n",
       "      <th>date_received</th>\n",
       "      <th></th>\n",
       "      <th></th>\n",
       "      <th></th>\n",
       "      <th></th>\n",
       "      <th></th>\n",
       "      <th></th>\n",
       "      <th></th>\n",
       "      <th></th>\n",
       "      <th></th>\n",
       "      <th></th>\n",
       "      <th></th>\n",
       "      <th></th>\n",
       "      <th></th>\n",
       "      <th></th>\n",
       "      <th></th>\n",
       "      <th></th>\n",
       "      <th></th>\n",
       "    </tr>\n",
       "  </thead>\n",
       "  <tbody>\n",
       "    <tr>\n",
       "      <th>2017-04-26</th>\n",
       "      <td>Credit reporting, credit repair services, or other personal consumer reports</td>\n",
       "      <td>Credit reporting</td>\n",
       "      <td>Improper use of your report</td>\n",
       "      <td>Credit inquiries on your report that you don't recognize</td>\n",
       "      <td>Refuses to remove all inquiries. I have contacted the credit bureau multiple times explaining that I have contacted the furnishers of information they are reporting inquiries from and I have been able to get no where. I have not been able to get any factual evidence showing that the inquiries reported are mine. The credit bureau agency claims that they have validated the inquiries are factual. How can they determine something is factual when I can not?</td>\n",
       "      <td>Company has responded to the consumer and the CFPB and chooses not to provide a public response</td>\n",
       "      <td>TRANSUNION INTERMEDIATE HOLDINGS, INC.</td>\n",
       "      <td>NM</td>\n",
       "      <td>871XX</td>\n",
       "      <td>NaN</td>\n",
       "      <td>Consent provided</td>\n",
       "      <td>Web</td>\n",
       "      <td>2017-04-26</td>\n",
       "      <td>Closed with explanation</td>\n",
       "      <td>Yes</td>\n",
       "      <td>NaN</td>\n",
       "      <td>2466929</td>\n",
       "    </tr>\n",
       "    <tr>\n",
       "      <th>2012-02-27</th>\n",
       "      <td>Credit card</td>\n",
       "      <td>NaN</td>\n",
       "      <td>APR or interest rate</td>\n",
       "      <td>NaN</td>\n",
       "      <td>NaN</td>\n",
       "      <td>NaN</td>\n",
       "      <td>JPMORGAN CHASE &amp; CO.</td>\n",
       "      <td>FL</td>\n",
       "      <td>32225</td>\n",
       "      <td>Older American</td>\n",
       "      <td>NaN</td>\n",
       "      <td>Web</td>\n",
       "      <td>2012-02-28</td>\n",
       "      <td>Closed with relief</td>\n",
       "      <td>Yes</td>\n",
       "      <td>No</td>\n",
       "      <td>27106</td>\n",
       "    </tr>\n",
       "    <tr>\n",
       "      <th>2017-01-19</th>\n",
       "      <td>Credit reporting</td>\n",
       "      <td>NaN</td>\n",
       "      <td>Incorrect information on credit report</td>\n",
       "      <td>Public record</td>\n",
       "      <td>NaN</td>\n",
       "      <td>NaN</td>\n",
       "      <td>EQUIFAX, INC.</td>\n",
       "      <td>GA</td>\n",
       "      <td>31407</td>\n",
       "      <td>NaN</td>\n",
       "      <td>Consent not provided</td>\n",
       "      <td>Web</td>\n",
       "      <td>2017-01-19</td>\n",
       "      <td>Closed with explanation</td>\n",
       "      <td>Yes</td>\n",
       "      <td>No</td>\n",
       "      <td>2298585</td>\n",
       "    </tr>\n",
       "    <tr>\n",
       "      <th>2012-11-14</th>\n",
       "      <td>Mortgage</td>\n",
       "      <td>Other mortgage</td>\n",
       "      <td>Loan modification,collection,foreclosure</td>\n",
       "      <td>NaN</td>\n",
       "      <td>NaN</td>\n",
       "      <td>NaN</td>\n",
       "      <td>BANK OF AMERICA, NATIONAL ASSOCIATION</td>\n",
       "      <td>CA</td>\n",
       "      <td>91791</td>\n",
       "      <td>NaN</td>\n",
       "      <td>NaN</td>\n",
       "      <td>Referral</td>\n",
       "      <td>2012-11-16</td>\n",
       "      <td>Closed with explanation</td>\n",
       "      <td>Yes</td>\n",
       "      <td>No</td>\n",
       "      <td>190675</td>\n",
       "    </tr>\n",
       "    <tr>\n",
       "      <th>2014-04-10</th>\n",
       "      <td>Debt collection</td>\n",
       "      <td>I do not know</td>\n",
       "      <td>Cont'd attempts collect debt not owed</td>\n",
       "      <td>Debt was paid</td>\n",
       "      <td>NaN</td>\n",
       "      <td>NaN</td>\n",
       "      <td>Dynamic Recovery Solutions, LLC</td>\n",
       "      <td>CA</td>\n",
       "      <td>91381</td>\n",
       "      <td>Older American, Servicemember</td>\n",
       "      <td>NaN</td>\n",
       "      <td>Web</td>\n",
       "      <td>2014-04-10</td>\n",
       "      <td>Closed with explanation</td>\n",
       "      <td>Yes</td>\n",
       "      <td>No</td>\n",
       "      <td>803526</td>\n",
       "    </tr>\n",
       "  </tbody>\n",
       "</table>\n",
       "</div>"
      ],
      "text/plain": [
       "                                                                                    Product  \\\n",
       "date_received                                                                                 \n",
       "2017-04-26     Credit reporting, credit repair services, or other personal consumer reports   \n",
       "2012-02-27                                                                      Credit card   \n",
       "2017-01-19                                                                 Credit reporting   \n",
       "2012-11-14                                                                         Mortgage   \n",
       "2014-04-10                                                                  Debt collection   \n",
       "\n",
       "                    sub_product                                     issue  \\\n",
       "date_received                                                               \n",
       "2017-04-26     Credit reporting               Improper use of your report   \n",
       "2012-02-27                  NaN                      APR or interest rate   \n",
       "2017-01-19                  NaN    Incorrect information on credit report   \n",
       "2012-11-14       Other mortgage  Loan modification,collection,foreclosure   \n",
       "2014-04-10        I do not know     Cont'd attempts collect debt not owed   \n",
       "\n",
       "                                                              sub_issue  \\\n",
       "date_received                                                             \n",
       "2017-04-26     Credit inquiries on your report that you don't recognize   \n",
       "2012-02-27                                                          NaN   \n",
       "2017-01-19                                                Public record   \n",
       "2012-11-14                                                          NaN   \n",
       "2014-04-10                                                Debt was paid   \n",
       "\n",
       "                                                                                                                                                                                                                                                                                                                                                                                                                                                           consumer_complaint_narrative  \\\n",
       "date_received                                                                                                                                                                                                                                                                                                                                                                                                                                                                             \n",
       "2017-04-26     Refuses to remove all inquiries. I have contacted the credit bureau multiple times explaining that I have contacted the furnishers of information they are reporting inquiries from and I have been able to get no where. I have not been able to get any factual evidence showing that the inquiries reported are mine. The credit bureau agency claims that they have validated the inquiries are factual. How can they determine something is factual when I can not?   \n",
       "2012-02-27                                                                                                                                                                                                                                                                                                                                                                                                                                                                          NaN   \n",
       "2017-01-19                                                                                                                                                                                                                                                                                                                                                                                                                                                                          NaN   \n",
       "2012-11-14                                                                                                                                                                                                                                                                                                                                                                                                                                                                          NaN   \n",
       "2014-04-10                                                                                                                                                                                                                                                                                                                                                                                                                                                                          NaN   \n",
       "\n",
       "                                                                                       company_public_response  \\\n",
       "date_received                                                                                                    \n",
       "2017-04-26     Company has responded to the consumer and the CFPB and chooses not to provide a public response   \n",
       "2012-02-27                                                                                                 NaN   \n",
       "2017-01-19                                                                                                 NaN   \n",
       "2012-11-14                                                                                                 NaN   \n",
       "2014-04-10                                                                                                 NaN   \n",
       "\n",
       "                                              company state    zip  \\\n",
       "date_received                                                        \n",
       "2017-04-26     TRANSUNION INTERMEDIATE HOLDINGS, INC.    NM  871XX   \n",
       "2012-02-27                       JPMORGAN CHASE & CO.    FL  32225   \n",
       "2017-01-19                              EQUIFAX, INC.    GA  31407   \n",
       "2012-11-14      BANK OF AMERICA, NATIONAL ASSOCIATION    CA  91791   \n",
       "2014-04-10            Dynamic Recovery Solutions, LLC    CA  91381   \n",
       "\n",
       "                                        tags consumer_consent_provided?  \\\n",
       "date_received                                                             \n",
       "2017-04-26                               NaN           Consent provided   \n",
       "2012-02-27                    Older American                        NaN   \n",
       "2017-01-19                               NaN       Consent not provided   \n",
       "2012-11-14                               NaN                        NaN   \n",
       "2014-04-10     Older American, Servicemember                        NaN   \n",
       "\n",
       "              submitted_via date_sent_to_company company_response_to_consumer  \\\n",
       "date_received                                                                   \n",
       "2017-04-26              Web           2017-04-26      Closed with explanation   \n",
       "2012-02-27              Web           2012-02-28           Closed with relief   \n",
       "2017-01-19              Web           2017-01-19      Closed with explanation   \n",
       "2012-11-14         Referral           2012-11-16      Closed with explanation   \n",
       "2014-04-10              Web           2014-04-10      Closed with explanation   \n",
       "\n",
       "              timely_response? consumer_disputed?  complaint_ID  \n",
       "date_received                                                    \n",
       "2017-04-26                 Yes                NaN       2466929  \n",
       "2012-02-27                 Yes                 No         27106  \n",
       "2017-01-19                 Yes                 No       2298585  \n",
       "2012-11-14                 Yes                 No        190675  \n",
       "2014-04-10                 Yes                 No        803526  "
      ]
     },
     "execution_count": 8,
     "metadata": {},
     "output_type": "execute_result"
    }
   ],
   "source": [
    "complaints_df.sample(5)"
   ]
  },
  {
   "cell_type": "code",
   "execution_count": 34,
   "metadata": {},
   "outputs": [
    {
     "data": {
      "text/plain": [
       "Product                              0\n",
       "sub_product                     235170\n",
       "issue                                0\n",
       "sub_issue                       482289\n",
       "consumer_complaint_narrative    705145\n",
       "company_public_response         660940\n",
       "company                              0\n",
       "state                             9918\n",
       "zip                              13917\n",
       "tags                            802609\n",
       "consumer_consent_provided?      521695\n",
       "submitted_via                        0\n",
       "date_sent_to_company                 0\n",
       "company_response_to_consumer         0\n",
       "timely_response?                     0\n",
       "consumer_disputed?              163903\n",
       "complaint_ID                         0\n",
       "dtype: int64"
      ]
     },
     "execution_count": 34,
     "metadata": {},
     "output_type": "execute_result"
    }
   ],
   "source": [
    "complaints_df.isnull().sum()"
   ]
  },
  {
   "cell_type": "markdown",
   "metadata": {},
   "source": [
    "By looking at the data, I came up with a few questions of interest that I would like to see whether I can answer as I do exploratory analysis. Having a few questions about the data can help guide the exploratory process a bit. Below are a few questions I would like to answer.\n",
    "\n",
    "1. What is the average or median number of complaints by company?\n",
    "2. Which companies have the most complaints lodges against them? \n",
    "3. How are complaints by geographical regions? E.g by state or by zip code? Also take population of region into account.\n",
    "4. Summary of complaints grouped by product and sub-product categories.\n",
    "5. How many companies reply in a timely fashion to complaints? Does category matter?\n",
    "6. How are most comlaints submitted?"
   ]
  },
  {
   "cell_type": "markdown",
   "metadata": {},
   "source": [
    "### Complaints by Category and Subcategory"
   ]
  },
  {
   "cell_type": "code",
   "execution_count": 9,
   "metadata": {},
   "outputs": [
    {
     "data": {
      "text/plain": [
       "product       18\n",
       "complaints    18\n",
       "dtype: int64"
      ]
     },
     "execution_count": 9,
     "metadata": {},
     "output_type": "execute_result"
    }
   ],
   "source": [
    "products = pd.DataFrame(complaints_df.Product.value_counts().reset_index())\n",
    "products.columns = ['product', 'complaints']\n",
    "products.count()"
   ]
  },
  {
   "cell_type": "code",
   "execution_count": 10,
   "metadata": {},
   "outputs": [
    {
     "data": {
      "text/plain": [
       "Text(0.5,1,'Product Complaints')"
      ]
     },
     "execution_count": 10,
     "metadata": {},
     "output_type": "execute_result"
    },
    {
     "data": {
      "image/png": "[encoded data removed]",
      "text/plain": [
       "<Figure size 576x504 with 1 Axes>"
      ]
     },
     "metadata": {},
     "output_type": "display_data"
    }
   ],
   "source": [
    "plt.figure(figsize=(8, 7))\n",
    "sns.barplot(x='complaints', y='product', data=products)\n",
    "plt.title('Product Complaints')"
   ]
  },
  {
   "cell_type": "markdown",
   "metadata": {},
   "source": [
    "Grouping the complaints by product, we can see that most complaints are about Mortgages, with debt collection and credit reporting taking 2nd and 3rd place respectively."
   ]
  },
  {
   "cell_type": "markdown",
   "metadata": {},
   "source": [
    "Complaints are then further divided into sub_products. Debt collection is further subdivided into 17 sub_product categories while Credit reporting, Payday loan, and Credit card categories have no further sub-categories."
   ]
  },
  {
   "cell_type": "code",
   "execution_count": 11,
   "metadata": {},
   "outputs": [
    {
     "data": {
      "text/plain": [
       "Product\n",
       "Debt collection                                                                 17\n",
       "Mortgage                                                                        11\n",
       "Money transfer, virtual currency, or money service                              10\n",
       "Prepaid card                                                                     9\n",
       "Other financial service                                                          7\n",
       "Consumer Loan                                                                    6\n",
       "Credit card or prepaid card                                                      6\n",
       "Checking or savings account                                                      5\n",
       "Bank account or service                                                          5\n",
       "Payday loan, title loan, or personal loan                                        5\n",
       "Vehicle loan or lease                                                            3\n",
       "Credit reporting, credit repair services, or other personal consumer reports     3\n",
       "Student loan                                                                     3\n",
       "Money transfers                                                                  2\n",
       "Virtual currency                                                                 2\n",
       "Credit reporting                                                                 0\n",
       "Payday loan                                                                      0\n",
       "Credit card                                                                      0\n",
       "Name: sub_product, dtype: int64"
      ]
     },
     "execution_count": 11,
     "metadata": {},
     "output_type": "execute_result"
    }
   ],
   "source": [
    "complaints_df.groupby('Product')['sub_product'].nunique().sort_values(ascending=False)"
   ]
  },
  {
   "cell_type": "code",
   "execution_count": 12,
   "metadata": {},
   "outputs": [],
   "source": [
    "def sub_products(product):\n",
    "    '''Filter dataframe by product and return sub_products with value counts for specified product.'''\n",
    "    filtered = complaints_df.loc[complaints_df['Product'] == product]\n",
    "    return filtered['sub_product'].value_counts()"
   ]
  },
  {
   "cell_type": "code",
   "execution_count": 13,
   "metadata": {},
   "outputs": [
    {
     "name": "stdout",
     "output_type": "stream",
     "text": [
      "Other mortgage                                86637\n",
      "Conventional fixed mortgage                   70617\n",
      "FHA mortgage                                  27011\n",
      "Conventional adjustable mortgage (ARM)        25382\n",
      "Home equity loan or line of credit            11626\n",
      "Conventional home mortgage                     9935\n",
      "VA mortgage                                    5928\n",
      "Other type of mortgage                         3994\n",
      "Reverse mortgage                               2396\n",
      "Home equity loan or line of credit (HELOC)     1257\n",
      "Second mortgage                                 662\n",
      "Name: sub_product, dtype: int64\n"
     ]
    }
   ],
   "source": [
    "mortgages = sub_products('Mortgage')\n",
    "print(mortgages)"
   ]
  },
  {
   "cell_type": "code",
   "execution_count": 35,
   "metadata": {},
   "outputs": [
    {
     "data": {
      "image/png": "[encoded data removed]",
      "text/plain": [
       "<Figure size 432x432 with 1 Axes>"
      ]
     },
     "metadata": {},
     "output_type": "display_data"
    }
   ],
   "source": [
    "plt.figure(figsize=(6,6))\n",
    "mortgages.plot.barh()\n",
    "plt.gca().invert_yaxis()\n",
    "plt.show()"
   ]
  },
  {
   "cell_type": "markdown",
   "metadata": {},
   "source": [
    "Student Loans are further subdivided into three subcategories."
   ]
  },
  {
   "cell_type": "code",
   "execution_count": 15,
   "metadata": {},
   "outputs": [
    {
     "data": {
      "text/plain": [
       "Non-federal student loan          22283\n",
       "Federal student loan servicing    14591\n",
       "Private student loan               2793\n",
       "Name: sub_product, dtype: int64"
      ]
     },
     "execution_count": 15,
     "metadata": {},
     "output_type": "execute_result"
    }
   ],
   "source": [
    "sub_products('Student loan')"
   ]
  },
  {
   "cell_type": "markdown",
   "metadata": {},
   "source": [
    "### Complaints by Company"
   ]
  },
  {
   "cell_type": "code",
   "execution_count": 16,
   "metadata": {},
   "outputs": [
    {
     "data": {
      "text/plain": [
       "count            932473\n",
       "unique             4580\n",
       "top       EQUIFAX, INC.\n",
       "freq              73490\n",
       "Name: company, dtype: object"
      ]
     },
     "execution_count": 16,
     "metadata": {},
     "output_type": "execute_result"
    }
   ],
   "source": [
    "complaints_df['company'].describe()"
   ]
  },
  {
   "cell_type": "code",
   "execution_count": 17,
   "metadata": {},
   "outputs": [
    {
     "data": {
      "text/plain": [
       "EQUIFAX, INC.                             73490\n",
       "BANK OF AMERICA, NATIONAL ASSOCIATION     71552\n",
       "Experian Information Solutions Inc.       61988\n",
       "WELLS FARGO & COMPANY                     59362\n",
       "TRANSUNION INTERMEDIATE HOLDINGS, INC.    56546\n",
       "JPMORGAN CHASE & CO.                      48301\n",
       "CITIBANK, N.A.                            39259\n",
       "OCWEN LOAN SERVICING LLC                  25727\n",
       "CAPITAL ONE FINANCIAL CORPORATION         24353\n",
       "Navient Solutions, LLC.                   22457\n",
       "NATIONSTAR MORTGAGE                       17823\n",
       "SYNCHRONY FINANCIAL                       15581\n",
       "U.S. BANCORP                              13952\n",
       "Ditech Financial LLC                      12525\n",
       "AMERICAN EXPRESS COMPANY                   9849\n",
       "PNC Bank N.A.                              9618\n",
       "ENCORE CAPITAL GROUP INC.                  8952\n",
       "DISCOVER BANK                              7634\n",
       "HSBC NORTH AMERICA HOLDINGS INC.           7606\n",
       "SUNTRUST BANKS, INC.                       7031\n",
       "Name: company, dtype: int64"
      ]
     },
     "execution_count": 17,
     "metadata": {},
     "output_type": "execute_result"
    }
   ],
   "source": [
    "# Top 10 companies by complaints.\n",
    "complaints_df.company.value_counts().head(20)"
   ]
  },
  {
   "cell_type": "code",
   "execution_count": 18,
   "metadata": {},
   "outputs": [
    {
     "name": "stdout",
     "output_type": "stream",
     "text": [
      "       num_complaints\n",
      "count     4580.000000\n",
      "mean       203.596725\n",
      "std       2493.936476\n",
      "min          1.000000\n",
      "25%          2.000000\n",
      "50%          6.000000\n",
      "75%         27.000000\n",
      "max      73490.000000\n"
     ]
    }
   ],
   "source": [
    "co_complaints = pd.DataFrame(complaints_df.company.value_counts())\n",
    "co_complaints.columns = ['num_complaints']\n",
    "stats = co_complaints.describe()\n",
    "print(stats)"
   ]
  },
  {
   "cell_type": "markdown",
   "metadata": {},
   "source": [
    "Here, I grouped the complaints by company and calculated summary statistics such as mean, standard deviation among others. There are **4580 unique** companies in the complaints data.  \n",
    "\n",
    "The big difference between the mean and median complaints, 203 and 6 respectively, shows that the complaints are heavily skewed to the right. A majority of companies have very few complaints lodged against them while a few companies have a lot of complaints against them.\n",
    "\n",
    "By taking the log of complaints, we get a better view of distribution of complaints as seen in the plots below. The second subplots is a histogram of the log of complaints."
   ]
  },
  {
   "cell_type": "code",
   "execution_count": 19,
   "metadata": {},
   "outputs": [],
   "source": [
    "co_complaints_log = np.log(co_complaints)"
   ]
  },
  {
   "cell_type": "code",
   "execution_count": 48,
   "metadata": {},
   "outputs": [
    {
     "data": {
      "image/png": "[encoded data removed]",
      "text/plain": [
       "<Figure size 1008x288 with 2 Axes>"
      ]
     },
     "metadata": {},
     "output_type": "display_data"
    }
   ],
   "source": [
    "fig, axes = plt.subplots(figsize=(14, 4), ncols=2, nrows=1)\n",
    "#plt.subplots_adjust(hspace=0.5) # Vertical space between subplots.\n",
    "plt.suptitle('Normal Vs. Log_Complaints') # Overall plot title.\n",
    "\n",
    "sns.distplot(co_complaints, bins=40, kde=False, ax=axes[0], color='darkblue')\n",
    "sns.distplot(co_complaints_log, bins=30, kde=False, ax=axes[1], color='darkblue')\n",
    "\n",
    "axes[0].set_title('Complaints') # Title for 1st subplot\n",
    "axes[1].set_title('Log of Complaints') #Title for 2nd subplot\n",
    "\n",
    "plt.show()"
   ]
  },
  {
   "cell_type": "markdown",
   "metadata": {},
   "source": [
    "### Binning"
   ]
  },
  {
   "cell_type": "code",
   "execution_count": 21,
   "metadata": {},
   "outputs": [],
   "source": [
    "# Group by number of complaints for each company.\n",
    "bins = [0, 1, 10, 100, 1000, 10000, 100000]\n",
    "labels = ['1', '1-10', '10-100', '100-1000', '1000-10000','>10000' ]\n",
    "binned_df = pd.cut(co_complaints.num_complaints, bins, labels=labels).value_counts().sort_index()"
   ]
  },
  {
   "cell_type": "code",
   "execution_count": 22,
   "metadata": {},
   "outputs": [
    {
     "data": {
      "text/plain": [
       "1              958\n",
       "1-10          1762\n",
       "10-100        1376\n",
       "100-1000       391\n",
       "1000-10000      79\n",
       ">10000          14\n",
       "Name: num_complaints, dtype: int64"
      ]
     },
     "execution_count": 22,
     "metadata": {},
     "output_type": "execute_result"
    }
   ],
   "source": [
    "binned_df"
   ]
  },
  {
   "cell_type": "code",
   "execution_count": 23,
   "metadata": {
    "scrolled": true
   },
   "outputs": [
    {
     "data": {
      "image/png": "[encoded data removed]",
      "text/plain": [
       "<Figure size 432x288 with 1 Axes>"
      ]
     },
     "metadata": {},
     "output_type": "display_data"
    }
   ],
   "source": [
    "binned_df.plot.bar(facecolor='blue', width=0.9)\n",
    "plt.xlabel('No. of Complaints')\n",
    "plt.ylabel('No. of Companies')\n",
    "plt.title('Histogram of Company Complaints')\n",
    "plt.xticks(rotation=60)\n",
    "plt.show()"
   ]
  },
  {
   "cell_type": "markdown",
   "metadata": {},
   "source": [
    "### Company Search"
   ]
  },
  {
   "cell_type": "code",
   "execution_count": 24,
   "metadata": {},
   "outputs": [],
   "source": [
    "def company_search(company_name):\n",
    "    ''' \n",
    "    Function to return companies with names similar to input.\n",
    "    For searching company names in the dataframe.\n",
    "    '''\n",
    "    company_list = set()\n",
    "    for company in complaints_df.company:\n",
    "        if company_name.lower() in company.lower():\n",
    "            company_list.add(company)\n",
    "        else:\n",
    "            continue\n",
    "    if len(company_list) == 0:\n",
    "        return ('No companies that match input found.')\n",
    "    \n",
    "    return list(enumerate(list(company_list), 1))"
   ]
  },
  {
   "cell_type": "code",
   "execution_count": 25,
   "metadata": {},
   "outputs": [
    {
     "data": {
      "text/plain": [
       "[(1, 'Russell P Goldman PC'),\n",
       " (2, 'Goldman, Imani & Goldberg, Inc'),\n",
       " (3, 'Fitzgerald Goldman & Associates, Inc.'),\n",
       " (4, 'GOLDMAN SACHS BANK USA'),\n",
       " (5, 'Scott and Goldman, Inc.')]"
      ]
     },
     "execution_count": 25,
     "metadata": {},
     "output_type": "execute_result"
    }
   ],
   "source": [
    "company_search('goldman')"
   ]
  },
  {
   "cell_type": "code",
   "execution_count": 26,
   "metadata": {},
   "outputs": [],
   "source": [
    "def complaints_co_x(name):\n",
    "    ''' \n",
    "    Return number of complaints for any company in the dataset.\n",
    "    Company name has to be in dataframe and has to be exact.\n",
    "    '''\n",
    "    count = complaints_df[complaints_df.company == name].complaint_ID.count()\n",
    "    products = complaints_df[complaints_df.company == name].Product.nunique()\n",
    "    return ('{} has {} complaint(s) in {} product categories.').format(name, count, products)"
   ]
  },
  {
   "cell_type": "code",
   "execution_count": 27,
   "metadata": {},
   "outputs": [
    {
     "data": {
      "text/plain": [
       "'GRANITE STATE MANAGEMENT & RESOURCES has 59 complaint(s) in 3 product categories.'"
      ]
     },
     "execution_count": 27,
     "metadata": {},
     "output_type": "execute_result"
    }
   ],
   "source": [
    "complaints_co_x('GRANITE STATE MANAGEMENT & RESOURCES') # My student loan company. Not too bad."
   ]
  },
  {
   "cell_type": "code",
   "execution_count": 28,
   "metadata": {},
   "outputs": [
    {
     "data": {
      "text/plain": [
       "'GOLDMAN SACHS BANK USA has 139 complaint(s) in 13 product categories.'"
      ]
     },
     "execution_count": 28,
     "metadata": {},
     "output_type": "execute_result"
    }
   ],
   "source": [
    "complaints_co_x('GOLDMAN SACHS BANK USA')"
   ]
  },
  {
   "cell_type": "code",
   "execution_count": 29,
   "metadata": {},
   "outputs": [
    {
     "data": {
      "text/plain": [
       "Bank account or service                                                         45\n",
       "Mortgage                                                                        43\n",
       "Checking or savings account                                                     17\n",
       "Consumer Loan                                                                   12\n",
       "Payday loan, title loan, or personal loan                                        6\n",
       "Credit reporting, credit repair services, or other personal consumer reports     5\n",
       "Payday loan                                                                      4\n",
       "Money transfers                                                                  2\n",
       "Credit card or prepaid card                                                      1\n",
       "Debt collection                                                                  1\n",
       "Credit reporting                                                                 1\n",
       "Prepaid card                                                                     1\n",
       "Credit card                                                                      1\n",
       "Name: Product, dtype: int64"
      ]
     },
     "execution_count": 29,
     "metadata": {},
     "output_type": "execute_result"
    }
   ],
   "source": [
    "complaints_df[complaints_df.company == \"GOLDMAN SACHS BANK USA\"].Product.value_counts()"
   ]
  },
  {
   "cell_type": "markdown",
   "metadata": {},
   "source": [
    "## Timely Response?\n",
    "What is considered a timely response? According to the [CFPB](https://www.consumerfinance.gov/complaint/), 97% companies respond in a timely fashion, about 15 days. "
   ]
  },
  {
   "cell_type": "code",
   "execution_count": 52,
   "metadata": {},
   "outputs": [
    {
     "data": {
      "text/plain": [
       "Yes    907277\n",
       "No      25196\n",
       "Name: timely_response?, dtype: int64"
      ]
     },
     "execution_count": 52,
     "metadata": {},
     "output_type": "execute_result"
    }
   ],
   "source": [
    "complaints_df['timely_response?'].value_counts()"
   ]
  },
  {
   "cell_type": "code",
   "execution_count": 54,
   "metadata": {},
   "outputs": [],
   "source": [
    "late = complaints_df.loc[complaints_df[\"timely_response?\"] == \"No\"]"
   ]
  },
  {
   "cell_type": "code",
   "execution_count": 69,
   "metadata": {},
   "outputs": [
    {
     "data": {
      "text/plain": [
       "WELLS FARGO & COMPANY                    2848\n",
       "BANK OF AMERICA, NATIONAL ASSOCIATION    1571\n",
       "EQUIFAX, INC.                             659\n",
       "OCWEN LOAN SERVICING LLC                  542\n",
       "CITIBANK, N.A.                            353\n",
       "Southwest Credit Systems, L.P.            298\n",
       "Mobiloans, LLC                            296\n",
       "Midwest Recovery Systems                  242\n",
       "Colony Brands, Inc.                       219\n",
       "Residential Credit Solutions, Inc.        172\n",
       "Name: company, dtype: int64"
      ]
     },
     "execution_count": 69,
     "metadata": {},
     "output_type": "execute_result"
    }
   ],
   "source": [
    "late.company.value_counts().head(10)"
   ]
  },
  {
   "cell_type": "markdown",
   "metadata": {},
   "source": [
    "The same companies with the most complaints also have the most complaints not repsonded to in a timely manner. This is not very surprising. These companies probably also serve a lot of customers so these numbers might not be the best way to judge companies by. \n",
    "\n",
    "**What about proportion of non-timely response complaints to total complaints by company or by product?**"
   ]
  },
  {
   "cell_type": "code",
   "execution_count": null,
   "metadata": {},
   "outputs": [],
   "source": [
    "late.company.value_counts() / late.complaunt"
   ]
  },
  {
   "cell_type": "code",
   "execution_count": null,
   "metadata": {},
   "outputs": [],
   "source": []
  },
  {
   "cell_type": "code",
   "execution_count": null,
   "metadata": {},
   "outputs": [],
   "source": []
  },
  {
   "cell_type": "code",
   "execution_count": null,
   "metadata": {},
   "outputs": [],
   "source": []
  },
  {
   "cell_type": "code",
   "execution_count": null,
   "metadata": {},
   "outputs": [],
   "source": []
  },
  {
   "cell_type": "markdown",
   "metadata": {},
   "source": [
    "### Complaints by State\n"
   ]
  },
  {
   "cell_type": "markdown",
   "metadata": {},
   "source": [
    "`complaints_df.state.nunique()` shows there are 62 unique states in the complaints dataset.\n",
    "\n",
    "Number of complaints by state probaly correlates with population thus this number does not tell much by itself."
   ]
  },
  {
   "cell_type": "code",
   "execution_count": 30,
   "metadata": {},
   "outputs": [
    {
     "data": {
      "text/plain": [
       "Text(0,0.5,'No. of Complaints')"
      ]
     },
     "execution_count": 30,
     "metadata": {},
     "output_type": "execute_result"
    },
    {
     "data": {
      "image/png": "[encoded data removed]",
      "text/plain": [
       "<Figure size 432x288 with 1 Axes>"
      ]
     },
     "metadata": {},
     "output_type": "display_data"
    }
   ],
   "source": [
    "top_10_states = complaints_df.state.value_counts()[:10]\n",
    "top_10_states.plot(kind='bar', color='blue', width=0.8)\n",
    "plt.xticks(rotation=0)\n",
    "plt.title(\"Top 10 States for Complaints\")\n",
    "plt.ylabel(\"No. of Complaints\")"
   ]
  },
  {
   "cell_type": "code",
   "execution_count": 31,
   "metadata": {},
   "outputs": [
    {
     "data": {
      "text/plain": [
       "(array([0, 1, 2, 3, 4, 5, 6, 7, 8, 9]), <a list of 10 Text xticklabel objects>)"
      ]
     },
     "execution_count": 31,
     "metadata": {},
     "output_type": "execute_result"
    },
    {
     "data": {
      "image/png": "[encoded data removed]",
      "text/plain": [
       "<Figure size 432x288 with 1 Axes>"
      ]
     },
     "metadata": {},
     "output_type": "display_data"
    }
   ],
   "source": [
    "bottom_10_states = complaints_df.state.value_counts()[-10:]\n",
    "bottom_10_states.plot(kind='bar', color='orange', width=0.8)\n",
    "plt.title(\"Bottom 10 States for Complaints\")\n",
    "plt.ylabel(\"No. of Complaints\")\n",
    "plt.xticks(rotation=0)"
   ]
  },
  {
   "cell_type": "code",
   "execution_count": 32,
   "metadata": {},
   "outputs": [],
   "source": [
    "by_state = complaints_df.groupby('state')"
   ]
  },
  {
   "cell_type": "code",
   "execution_count": null,
   "metadata": {},
   "outputs": [],
   "source": []
  },
  {
   "cell_type": "code",
   "execution_count": null,
   "metadata": {},
   "outputs": [],
   "source": []
  }
 ],
 "metadata": {
  "kernelspec": {
   "display_name": "Python 3",
   "language": "python",
   "name": "python3"
  },
  "language_info": {
   "codemirror_mode": {
    "name": "ipython",
    "version": 3
   },
   "file_extension": ".py",
   "mimetype": "text/x-python",
   "name": "python",
   "nbconvert_exporter": "python",
   "pygments_lexer": "ipython3",
   "version": "3.6.6"
  }
 },
 "nbformat": 4,
 "nbformat_minor": 2
}
