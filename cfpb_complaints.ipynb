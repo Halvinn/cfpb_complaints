{
 "cells": [
  {
   "cell_type": "markdown",
   "metadata": {},
   "source": [
    "# Exploratory Data Analysis\n",
    "## CFPB Complaints\n",
    "\n",
    "The purpose of this project is to download and explore a dataset using Python and associated libraries."
   ]
  },
  {
   "cell_type": "markdown",
   "metadata": {},
   "source": [
    "The dataset is about consumer complaints about finacial products and services collected by the Consumer Financial Protection Bureau (CFPB). The data can be downloaded from the [data.gov](https://www.data.gov) website which hosts the U.S Government's open data."
   ]
  },
  {
   "cell_type": "markdown",
   "metadata": {},
   "source": [
    "### Import Libraries"
   ]
  },
  {
   "cell_type": "code",
   "execution_count": 14,
   "metadata": {},
   "outputs": [],
   "source": [
    "%matplotlib inline\n",
    "\n",
    "import pandas as pd\n",
    "import numpy as np\n",
    "import json\n",
    "import requests\n",
    "from datetime import datetime\n",
    "import matplotlib.pyplot as plt\n",
    "import seaborn as sns\n",
    "import warnings"
   ]
  },
  {
   "cell_type": "code",
   "execution_count": 15,
   "metadata": {},
   "outputs": [],
   "source": [
    "warnings.simplefilter('ignore')\n",
    "pd.set_option('display.max_colwidth',1000) # Show complete text in dataframe without truncating."
   ]
  },
  {
   "cell_type": "markdown",
   "metadata": {},
   "source": [
    "### Gather"
   ]
  },
  {
   "cell_type": "markdown",
   "metadata": {},
   "source": [
    "Downloaded dataset manually as a csv file and saved it locally as the file is too large and is causing app to crash when I download automatically using the requests library. (should check this out to see why)"
   ]
  },
  {
   "cell_type": "code",
   "execution_count": 16,
   "metadata": {
    "scrolled": false
   },
   "outputs": [],
   "source": [
    "# Read csv file into Pandas DataFrame suing chunksize due to memory issue (csv file is ~ 450 Mb)\n",
    "\n",
    "complaints_df = pd.read_csv('Consumer_Complaints.csv', index_col=0, parse_dates=['Date received', 'Date sent to company'],\\\n",
    "            infer_datetime_format=True)\n"
   ]
  },
  {
   "cell_type": "code",
   "execution_count": 17,
   "metadata": {},
   "outputs": [],
   "source": [
    "#Rename column and index names.\n",
    "col_names = ['Product', 'sub_product', 'issue', 'sub_issue',\n",
    "       'consumer_complaint_narrative', 'company_public_response', 'company',\n",
    "       'state', 'zip', 'tags', 'consumer_consent_provided?',\n",
    "       'submitted_via', 'date_sent_to_company', 'company_response_to_consumer',\n",
    "       'timely_response?', 'consumer_disputed?', 'complaint_ID']\n",
    "\n",
    "complaints_df.columns = col_names\n",
    "complaints_df.index.name = 'date_received'"
   ]
  },
  {
   "cell_type": "code",
   "execution_count": 18,
   "metadata": {},
   "outputs": [
    {
     "name": "stdout",
     "output_type": "stream",
     "text": [
      "<class 'pandas.core.frame.DataFrame'>\n",
      "DatetimeIndex: 932473 entries, 2014-03-12 to 2016-08-19\n",
      "Data columns (total 17 columns):\n",
      "Product                         932473 non-null object\n",
      "sub_product                     697303 non-null object\n",
      "issue                           932473 non-null object\n",
      "sub_issue                       450184 non-null object\n",
      "consumer_complaint_narrative    227328 non-null object\n",
      "company_public_response         271533 non-null object\n",
      "company                         932473 non-null object\n",
      "state                           922555 non-null object\n",
      "zip                             918556 non-null object\n",
      "tags                            129864 non-null object\n",
      "consumer_consent_provided?      410778 non-null object\n",
      "submitted_via                   932473 non-null object\n",
      "date_sent_to_company            932473 non-null datetime64[ns]\n",
      "company_response_to_consumer    932473 non-null object\n",
      "timely_response?                932473 non-null object\n",
      "consumer_disputed?              768570 non-null object\n",
      "complaint_ID                    932473 non-null int64\n",
      "dtypes: datetime64[ns](1), int64(1), object(15)\n",
      "memory usage: 128.1+ MB\n"
     ]
    }
   ],
   "source": [
    "complaints_df.info()"
   ]
  },
  {
   "cell_type": "code",
   "execution_count": 19,
   "metadata": {},
   "outputs": [
    {
     "data": {
      "text/plain": [
       "DatetimeIndex(['2014-03-12', '2016-10-01', '2016-10-17', '2014-06-08',\n",
       "               '2014-09-13', '2013-11-13', '2015-06-16', '2015-06-15',\n",
       "               '2015-11-13', '2014-10-21',\n",
       "               ...\n",
       "               '2015-09-17', '2014-02-11', '2016-11-09', '2016-01-22',\n",
       "               '2017-01-26', '2017-04-10', '2017-02-07', '2017-01-04',\n",
       "               '2015-09-28', '2016-08-19'],\n",
       "              dtype='datetime64[ns]', name='date_received', length=932473, freq=None)"
      ]
     },
     "execution_count": 19,
     "metadata": {},
     "output_type": "execute_result"
    }
   ],
   "source": [
    "complaints_df.index"
   ]
  },
  {
   "cell_type": "code",
   "execution_count": 20,
   "metadata": {},
   "outputs": [
    {
     "data": {
      "text/html": [
       "<div>\n",
       "<style scoped>\n",
       "    .dataframe tbody tr th:only-of-type {\n",
       "        vertical-align: middle;\n",
       "    }\n",
       "\n",
       "    .dataframe tbody tr th {\n",
       "        vertical-align: top;\n",
       "    }\n",
       "\n",
       "    .dataframe thead th {\n",
       "        text-align: right;\n",
       "    }\n",
       "</style>\n",
       "<table border=\"1\" class=\"dataframe\">\n",
       "  <thead>\n",
       "    <tr style=\"text-align: right;\">\n",
       "      <th></th>\n",
       "      <th>Product</th>\n",
       "      <th>sub_product</th>\n",
       "      <th>issue</th>\n",
       "      <th>sub_issue</th>\n",
       "      <th>consumer_complaint_narrative</th>\n",
       "      <th>company_public_response</th>\n",
       "      <th>company</th>\n",
       "      <th>state</th>\n",
       "      <th>zip</th>\n",
       "      <th>tags</th>\n",
       "      <th>consumer_consent_provided?</th>\n",
       "      <th>submitted_via</th>\n",
       "      <th>date_sent_to_company</th>\n",
       "      <th>company_response_to_consumer</th>\n",
       "      <th>timely_response?</th>\n",
       "      <th>consumer_disputed?</th>\n",
       "      <th>complaint_ID</th>\n",
       "    </tr>\n",
       "    <tr>\n",
       "      <th>date_received</th>\n",
       "      <th></th>\n",
       "      <th></th>\n",
       "      <th></th>\n",
       "      <th></th>\n",
       "      <th></th>\n",
       "      <th></th>\n",
       "      <th></th>\n",
       "      <th></th>\n",
       "      <th></th>\n",
       "      <th></th>\n",
       "      <th></th>\n",
       "      <th></th>\n",
       "      <th></th>\n",
       "      <th></th>\n",
       "      <th></th>\n",
       "      <th></th>\n",
       "      <th></th>\n",
       "    </tr>\n",
       "  </thead>\n",
       "  <tbody>\n",
       "    <tr>\n",
       "      <th>2014-07-14</th>\n",
       "      <td>Credit reporting</td>\n",
       "      <td>NaN</td>\n",
       "      <td>Credit monitoring or identity protection</td>\n",
       "      <td>Problem cancelling or closing account</td>\n",
       "      <td>NaN</td>\n",
       "      <td>NaN</td>\n",
       "      <td>TRANSUNION INTERMEDIATE HOLDINGS, INC.</td>\n",
       "      <td>WA</td>\n",
       "      <td>98133</td>\n",
       "      <td>NaN</td>\n",
       "      <td>NaN</td>\n",
       "      <td>Web</td>\n",
       "      <td>2014-07-14</td>\n",
       "      <td>Closed with monetary relief</td>\n",
       "      <td>Yes</td>\n",
       "      <td>No</td>\n",
       "      <td>936113</td>\n",
       "    </tr>\n",
       "    <tr>\n",
       "      <th>2015-07-15</th>\n",
       "      <td>Bank account or service</td>\n",
       "      <td>Other bank product/service</td>\n",
       "      <td>Deposits and withdrawals</td>\n",
       "      <td>NaN</td>\n",
       "      <td>NaN</td>\n",
       "      <td>Company chooses not to provide a public response</td>\n",
       "      <td>BANK OF AMERICA, NATIONAL ASSOCIATION</td>\n",
       "      <td>OK</td>\n",
       "      <td>74066</td>\n",
       "      <td>NaN</td>\n",
       "      <td>NaN</td>\n",
       "      <td>Referral</td>\n",
       "      <td>2015-07-15</td>\n",
       "      <td>Closed with monetary relief</td>\n",
       "      <td>Yes</td>\n",
       "      <td>No</td>\n",
       "      <td>1470066</td>\n",
       "    </tr>\n",
       "    <tr>\n",
       "      <th>2016-08-11</th>\n",
       "      <td>Credit card</td>\n",
       "      <td>NaN</td>\n",
       "      <td>Rewards</td>\n",
       "      <td>NaN</td>\n",
       "      <td>NaN</td>\n",
       "      <td>Company has responded to the consumer and the CFPB and chooses not to provide a public response</td>\n",
       "      <td>WELLS FARGO &amp; COMPANY</td>\n",
       "      <td>CA</td>\n",
       "      <td>91604</td>\n",
       "      <td>NaN</td>\n",
       "      <td>NaN</td>\n",
       "      <td>Referral</td>\n",
       "      <td>2016-08-15</td>\n",
       "      <td>Closed with non-monetary relief</td>\n",
       "      <td>Yes</td>\n",
       "      <td>No</td>\n",
       "      <td>2059891</td>\n",
       "    </tr>\n",
       "    <tr>\n",
       "      <th>2016-03-22</th>\n",
       "      <td>Debt collection</td>\n",
       "      <td>I do not know</td>\n",
       "      <td>Taking/threatening an illegal action</td>\n",
       "      <td>Threatened arrest/jail if do not pay</td>\n",
       "      <td>NaN</td>\n",
       "      <td>Company believes complaint represents an opportunity for improvement to better serve consumers</td>\n",
       "      <td>Coastline Financial Resources, LLC</td>\n",
       "      <td>OH</td>\n",
       "      <td>44054</td>\n",
       "      <td>NaN</td>\n",
       "      <td>Consent not provided</td>\n",
       "      <td>Web</td>\n",
       "      <td>2016-03-31</td>\n",
       "      <td>Closed with explanation</td>\n",
       "      <td>No</td>\n",
       "      <td>No</td>\n",
       "      <td>1844072</td>\n",
       "    </tr>\n",
       "    <tr>\n",
       "      <th>2014-02-28</th>\n",
       "      <td>Debt collection</td>\n",
       "      <td>I do not know</td>\n",
       "      <td>Disclosure verification of debt</td>\n",
       "      <td>Not given enough info to verify debt</td>\n",
       "      <td>NaN</td>\n",
       "      <td>NaN</td>\n",
       "      <td>ERC</td>\n",
       "      <td>TX</td>\n",
       "      <td>79924</td>\n",
       "      <td>NaN</td>\n",
       "      <td>NaN</td>\n",
       "      <td>Referral</td>\n",
       "      <td>2014-03-04</td>\n",
       "      <td>Closed with explanation</td>\n",
       "      <td>Yes</td>\n",
       "      <td>No</td>\n",
       "      <td>738283</td>\n",
       "    </tr>\n",
       "  </tbody>\n",
       "</table>\n",
       "</div>"
      ],
      "text/plain": [
       "                               Product                 sub_product  \\\n",
       "date_received                                                        \n",
       "2014-07-14            Credit reporting                         NaN   \n",
       "2015-07-15     Bank account or service  Other bank product/service   \n",
       "2016-08-11                 Credit card                         NaN   \n",
       "2016-03-22             Debt collection               I do not know   \n",
       "2014-02-28             Debt collection               I do not know   \n",
       "\n",
       "                                                  issue  \\\n",
       "date_received                                             \n",
       "2014-07-14     Credit monitoring or identity protection   \n",
       "2015-07-15                     Deposits and withdrawals   \n",
       "2016-08-11                                      Rewards   \n",
       "2016-03-22         Taking/threatening an illegal action   \n",
       "2014-02-28              Disclosure verification of debt   \n",
       "\n",
       "                                           sub_issue  \\\n",
       "date_received                                          \n",
       "2014-07-14     Problem cancelling or closing account   \n",
       "2015-07-15                                       NaN   \n",
       "2016-08-11                                       NaN   \n",
       "2016-03-22      Threatened arrest/jail if do not pay   \n",
       "2014-02-28      Not given enough info to verify debt   \n",
       "\n",
       "              consumer_complaint_narrative  \\\n",
       "date_received                                \n",
       "2014-07-14                             NaN   \n",
       "2015-07-15                             NaN   \n",
       "2016-08-11                             NaN   \n",
       "2016-03-22                             NaN   \n",
       "2014-02-28                             NaN   \n",
       "\n",
       "                                                                                       company_public_response  \\\n",
       "date_received                                                                                                    \n",
       "2014-07-14                                                                                                 NaN   \n",
       "2015-07-15                                                    Company chooses not to provide a public response   \n",
       "2016-08-11     Company has responded to the consumer and the CFPB and chooses not to provide a public response   \n",
       "2016-03-22      Company believes complaint represents an opportunity for improvement to better serve consumers   \n",
       "2014-02-28                                                                                                 NaN   \n",
       "\n",
       "                                              company state    zip tags  \\\n",
       "date_received                                                             \n",
       "2014-07-14     TRANSUNION INTERMEDIATE HOLDINGS, INC.    WA  98133  NaN   \n",
       "2015-07-15      BANK OF AMERICA, NATIONAL ASSOCIATION    OK  74066  NaN   \n",
       "2016-08-11                      WELLS FARGO & COMPANY    CA  91604  NaN   \n",
       "2016-03-22         Coastline Financial Resources, LLC    OH  44054  NaN   \n",
       "2014-02-28                                        ERC    TX  79924  NaN   \n",
       "\n",
       "              consumer_consent_provided? submitted_via date_sent_to_company  \\\n",
       "date_received                                                                 \n",
       "2014-07-14                           NaN           Web           2014-07-14   \n",
       "2015-07-15                           NaN      Referral           2015-07-15   \n",
       "2016-08-11                           NaN      Referral           2016-08-15   \n",
       "2016-03-22          Consent not provided           Web           2016-03-31   \n",
       "2014-02-28                           NaN      Referral           2014-03-04   \n",
       "\n",
       "                  company_response_to_consumer timely_response?  \\\n",
       "date_received                                                     \n",
       "2014-07-14         Closed with monetary relief              Yes   \n",
       "2015-07-15         Closed with monetary relief              Yes   \n",
       "2016-08-11     Closed with non-monetary relief              Yes   \n",
       "2016-03-22             Closed with explanation               No   \n",
       "2014-02-28             Closed with explanation              Yes   \n",
       "\n",
       "              consumer_disputed?  complaint_ID  \n",
       "date_received                                   \n",
       "2014-07-14                    No        936113  \n",
       "2015-07-15                    No       1470066  \n",
       "2016-08-11                    No       2059891  \n",
       "2016-03-22                    No       1844072  \n",
       "2014-02-28                    No        738283  "
      ]
     },
     "execution_count": 20,
     "metadata": {},
     "output_type": "execute_result"
    }
   ],
   "source": [
    "complaints_df.sample(5)"
   ]
  },
  {
   "cell_type": "markdown",
   "metadata": {},
   "source": [
    "### Univariate Analysis\n",
    "In this section, I will explore variables individually."
   ]
  },
  {
   "cell_type": "code",
   "execution_count": 21,
   "metadata": {},
   "outputs": [
    {
     "data": {
      "text/plain": [
       "(932473, 17)"
      ]
     },
     "execution_count": 21,
     "metadata": {},
     "output_type": "execute_result"
    }
   ],
   "source": [
    "complaints_df.shape # Dataframe has 17 columns and 932,473 rows."
   ]
  },
  {
   "cell_type": "code",
   "execution_count": 8,
   "metadata": {},
   "outputs": [
    {
     "data": {
      "text/plain": [
       "product       18\n",
       "complaints    18\n",
       "dtype: int64"
      ]
     },
     "execution_count": 8,
     "metadata": {},
     "output_type": "execute_result"
    }
   ],
   "source": [
    "products = pd.DataFrame(complaints_df.Product.value_counts().reset_index())\n",
    "products.columns = ['product', 'complaints']\n",
    "products.count()"
   ]
  },
  {
   "cell_type": "code",
   "execution_count": 10,
   "metadata": {},
   "outputs": [
    {
     "data": {
      "text/plain": [
       "Text(0.5,1,'Product Complaints')"
      ]
     },
     "execution_count": 10,
     "metadata": {},
     "output_type": "execute_result"
    },
    {
     "data": {
      "image/png": "[encoded data removed]",
      "text/plain": [
       "<matplotlib.figure.Figure at 0x14dae220a90>"
      ]
     },
     "metadata": {},
     "output_type": "display_data"
    }
   ],
   "source": [
    "plt.figure(figsize=(8, 7))\n",
    "sns.barplot(x='complaints', y='product', data=products)\n",
    "plt.title('Product Complaints')"
   ]
  },
  {
   "cell_type": "markdown",
   "metadata": {},
   "source": [
    "Grouping the complaints by product, we can see that most complaints are about Mortgages, with debt collection and credit reporting taking 2nd and 3rd place respectively."
   ]
  },
  {
   "cell_type": "markdown",
   "metadata": {},
   "source": [
    "Complaints are then further divided into sub_products. Debt collection further sub divided into 17 sub_product categories while Credit reporting, Payday loan, and Credit card categories have no further sub-categories."
   ]
  },
  {
   "cell_type": "code",
   "execution_count": 65,
   "metadata": {},
   "outputs": [
    {
     "data": {
      "text/plain": [
       "Product\n",
       "Debt collection                                                                 17\n",
       "Mortgage                                                                        11\n",
       "Money transfer, virtual currency, or money service                              10\n",
       "Prepaid card                                                                     9\n",
       "Other financial service                                                          7\n",
       "Consumer Loan                                                                    6\n",
       "Credit card or prepaid card                                                      6\n",
       "Checking or savings account                                                      5\n",
       "Bank account or service                                                          5\n",
       "Payday loan, title loan, or personal loan                                        5\n",
       "Vehicle loan or lease                                                            3\n",
       "Credit reporting, credit repair services, or other personal consumer reports     3\n",
       "Student loan                                                                     3\n",
       "Money transfers                                                                  2\n",
       "Virtual currency                                                                 2\n",
       "Credit reporting                                                                 0\n",
       "Payday loan                                                                      0\n",
       "Credit card                                                                      0\n",
       "Name: sub_product, dtype: int64"
      ]
     },
     "execution_count": 65,
     "metadata": {},
     "output_type": "execute_result"
    }
   ],
   "source": [
    "complaints_df.groupby('Product')['sub_product'].nunique().sort_values(ascending=False)"
   ]
  },
  {
   "cell_type": "code",
   "execution_count": 56,
   "metadata": {},
   "outputs": [],
   "source": [
    "def sub_products(prod):\n",
    "    '''Filter dataframe by product and return sub_products with value counts for specified product.'''\n",
    "    filtered = complaints_df.loc[complaints_df['Product'] == prod]\n",
    "    return filtered['sub_product'].value_counts()"
   ]
  },
  {
   "cell_type": "code",
   "execution_count": 74,
   "metadata": {},
   "outputs": [
    {
     "data": {
      "text/html": [
       "<div>\n",
       "<style scoped>\n",
       "    .dataframe tbody tr th:only-of-type {\n",
       "        vertical-align: middle;\n",
       "    }\n",
       "\n",
       "    .dataframe tbody tr th {\n",
       "        vertical-align: top;\n",
       "    }\n",
       "\n",
       "    .dataframe thead th {\n",
       "        text-align: right;\n",
       "    }\n",
       "</style>\n",
       "<table border=\"1\" class=\"dataframe\">\n",
       "  <thead>\n",
       "    <tr style=\"text-align: right;\">\n",
       "      <th></th>\n",
       "      <th>sub_product</th>\n",
       "    </tr>\n",
       "  </thead>\n",
       "  <tbody>\n",
       "    <tr>\n",
       "      <th>Other mortgage</th>\n",
       "      <td>86637</td>\n",
       "    </tr>\n",
       "    <tr>\n",
       "      <th>Conventional fixed mortgage</th>\n",
       "      <td>70617</td>\n",
       "    </tr>\n",
       "    <tr>\n",
       "      <th>FHA mortgage</th>\n",
       "      <td>27011</td>\n",
       "    </tr>\n",
       "    <tr>\n",
       "      <th>Conventional adjustable mortgage (ARM)</th>\n",
       "      <td>25382</td>\n",
       "    </tr>\n",
       "    <tr>\n",
       "      <th>Home equity loan or line of credit</th>\n",
       "      <td>11626</td>\n",
       "    </tr>\n",
       "    <tr>\n",
       "      <th>Conventional home mortgage</th>\n",
       "      <td>9935</td>\n",
       "    </tr>\n",
       "    <tr>\n",
       "      <th>VA mortgage</th>\n",
       "      <td>5928</td>\n",
       "    </tr>\n",
       "    <tr>\n",
       "      <th>Other type of mortgage</th>\n",
       "      <td>3994</td>\n",
       "    </tr>\n",
       "    <tr>\n",
       "      <th>Reverse mortgage</th>\n",
       "      <td>2396</td>\n",
       "    </tr>\n",
       "    <tr>\n",
       "      <th>Home equity loan or line of credit (HELOC)</th>\n",
       "      <td>1257</td>\n",
       "    </tr>\n",
       "    <tr>\n",
       "      <th>Second mortgage</th>\n",
       "      <td>662</td>\n",
       "    </tr>\n",
       "  </tbody>\n",
       "</table>\n",
       "</div>"
      ],
      "text/plain": [
       "                                            sub_product\n",
       "Other mortgage                                    86637\n",
       "Conventional fixed mortgage                       70617\n",
       "FHA mortgage                                      27011\n",
       "Conventional adjustable mortgage (ARM)            25382\n",
       "Home equity loan or line of credit                11626\n",
       "Conventional home mortgage                         9935\n",
       "VA mortgage                                        5928\n",
       "Other type of mortgage                             3994\n",
       "Reverse mortgage                                   2396\n",
       "Home equity loan or line of credit (HELOC)         1257\n",
       "Second mortgage                                     662"
      ]
     },
     "execution_count": 74,
     "metadata": {},
     "output_type": "execute_result"
    }
   ],
   "source": [
    "mortgages = pd.DataFrame(sub_products('Mortgage'))\n",
    "mortgages"
   ]
  },
  {
   "cell_type": "code",
   "execution_count": 75,
   "metadata": {},
   "outputs": [
    {
     "data": {
      "text/plain": [
       "<matplotlib.figure.Figure at 0x228801d0f28>"
      ]
     },
     "metadata": {},
     "output_type": "display_data"
    },
    {
     "data": {
      "image/png": "[encoded data removed]",
      "text/plain": [
       "<matplotlib.figure.Figure at 0x228801c54a8>"
      ]
     },
     "metadata": {},
     "output_type": "display_data"
    }
   ],
   "source": [
    "plt.figure(figsize=(6, 5))\n",
    "mortgages.plot.barh()\n",
    "plt.gca().invert_yaxis()\n",
    "plt.show()"
   ]
  },
  {
   "cell_type": "code",
   "execution_count": 59,
   "metadata": {},
   "outputs": [
    {
     "data": {
      "text/plain": [
       "Non-federal student loan          22283\n",
       "Federal student loan servicing    14591\n",
       "Private student loan               2793\n",
       "Name: sub_product, dtype: int64"
      ]
     },
     "execution_count": 59,
     "metadata": {},
     "output_type": "execute_result"
    }
   ],
   "source": [
    "sub_products('Student loan')"
   ]
  },
  {
   "cell_type": "code",
   "execution_count": 61,
   "metadata": {},
   "outputs": [
    {
     "data": {
      "text/plain": [
       "Series([], Name: sub_product, dtype: int64)"
      ]
     },
     "execution_count": 61,
     "metadata": {},
     "output_type": "execute_result"
    }
   ],
   "source": [
    "sub_products('Credit reporting')"
   ]
  },
  {
   "cell_type": "code",
   "execution_count": null,
   "metadata": {},
   "outputs": [],
   "source": []
  },
  {
   "cell_type": "code",
   "execution_count": 11,
   "metadata": {
    "scrolled": false
   },
   "outputs": [
    {
     "data": {
      "text/plain": [
       "[1, 2, 3, 4, 5, 6, 7, 8, 9, 10, 11, 12]"
      ]
     },
     "execution_count": 11,
     "metadata": {},
     "output_type": "execute_result"
    }
   ],
   "source": [
    "list(set(complaints_df.index.month))"
   ]
  },
  {
   "cell_type": "code",
   "execution_count": 12,
   "metadata": {},
   "outputs": [],
   "source": [
    "def complaints_by_time(time_interval, stat):\n",
    "    df = complaints_df.groupby(complaints_df.index.time_interval).complaint_ID\n",
    "    return df.stat()"
   ]
  },
  {
   "cell_type": "code",
   "execution_count": 13,
   "metadata": {},
   "outputs": [
    {
     "data": {
      "text/plain": [
       "<matplotlib.axes._subplots.AxesSubplot at 0x14db5edd588>"
      ]
     },
     "execution_count": 13,
     "metadata": {},
     "output_type": "execute_result"
    },
    {
     "data": {
      "image/png": "[encoded data removed]",
      "text/plain": [
       "<matplotlib.figure.Figure at 0x14d99b33390>"
      ]
     },
     "metadata": {},
     "output_type": "display_data"
    }
   ],
   "source": [
    "complaints_df.groupby(complaints_df.index.month)['complaint_ID'].mean().astype('int').plot()"
   ]
  },
  {
   "cell_type": "code",
   "execution_count": 14,
   "metadata": {},
   "outputs": [
    {
     "data": {
      "text/plain": [
       "<matplotlib.axes._subplots.AxesSubplot at 0x14d9b292978>"
      ]
     },
     "execution_count": 14,
     "metadata": {},
     "output_type": "execute_result"
    },
    {
     "data": {
      "image/png": "[encoded data removed]",
      "text/plain": [
       "<matplotlib.figure.Figure at 0x14d99646da0>"
      ]
     },
     "metadata": {},
     "output_type": "display_data"
    }
   ],
   "source": [
    "complaints_df.resample('A').mean().plot()"
   ]
  },
  {
   "cell_type": "code",
   "execution_count": null,
   "metadata": {},
   "outputs": [],
   "source": []
  }
 ],
 "metadata": {
  "kernelspec": {
   "display_name": "Python 3",
   "language": "python",
   "name": "python3"
  },
  "language_info": {
   "codemirror_mode": {
    "name": "ipython",
    "version": 3
   },
   "file_extension": ".py",
   "mimetype": "text/x-python",
   "name": "python",
   "nbconvert_exporter": "python",
   "pygments_lexer": "ipython3",
   "version": "3.6.3"
  }
 },
 "nbformat": 4,
 "nbformat_minor": 2
}
