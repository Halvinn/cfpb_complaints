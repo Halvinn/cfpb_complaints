{
 "cells": [
  {
   "cell_type": "markdown",
   "metadata": {},
   "source": [
    "# Exploratory Data Analysis\n",
    "## CFPB Complaints\n",
    "\n",
    "The purpose of this project is to download and explore a dataset using Python and associated libraries."
   ]
  },
  {
   "cell_type": "markdown",
   "metadata": {},
   "source": [
    "The dataset is about consumer complaints about finacial products and services collected by the Consumer Financial Protection Bureau (CFPB). The data can be downloaded from the [data.gov](https://www.data.gov) website which hosts the U.S Government's open data."
   ]
  },
  {
   "cell_type": "markdown",
   "metadata": {},
   "source": [
    "### Import Libraries"
   ]
  },
  {
   "cell_type": "code",
   "execution_count": 2,
   "metadata": {},
   "outputs": [],
   "source": [
    "%matplotlib inline"
   ]
  },
  {
   "cell_type": "code",
   "execution_count": 62,
   "metadata": {},
   "outputs": [],
   "source": [
    "import pandas as pd\n",
    "import numpy as np\n",
    "import json\n",
    "import requests\n",
    "from datetime import datetime\n",
    "import matplotlib.pyplot as plt\n",
    "import seaborn as sns"
   ]
  },
  {
   "cell_type": "code",
   "execution_count": 4,
   "metadata": {},
   "outputs": [],
   "source": [
    "pd.set_option('display.max_colwidth',1000) # Show complete text in dataframe with truncating."
   ]
  },
  {
   "cell_type": "markdown",
   "metadata": {},
   "source": [
    "### Gather"
   ]
  },
  {
   "cell_type": "markdown",
   "metadata": {},
   "source": [
    "Downloaded dataset manually as a csv file and saved it locally as the file is too large and is causing app to crash when I download automatically using the requests library. (should check this out to see why)"
   ]
  },
  {
   "cell_type": "code",
   "execution_count": 76,
   "metadata": {},
   "outputs": [],
   "source": [
    "# Read csv file into Pandas DataFrame.\n",
    "complaints_df = pd.read_csv('Consumer_Complaints.csv', parse_dates=True) \n"
   ]
  },
  {
   "cell_type": "code",
   "execution_count": 77,
   "metadata": {},
   "outputs": [],
   "source": [
    "col_names = ['Date_received', 'Product', 'Sub_product', 'Issue', 'Sub_issue',\n",
    "       'Consumer_complaint_narrative', 'Company_public_response', 'Company',\n",
    "       'State', 'Zip', 'Tags', 'Consumer_consent_provided?',\n",
    "       'Submitted_via', 'Date_sent_to_company', 'Company_response_to_consumer',\n",
    "       'Timely_response?', 'Consumer_disputed?', 'Complaint_ID']\n",
    "complaints_df.columns = col_names"
   ]
  },
  {
   "cell_type": "code",
   "execution_count": 78,
   "metadata": {},
   "outputs": [
    {
     "name": "stdout",
     "output_type": "stream",
     "text": [
      "<class 'pandas.core.frame.DataFrame'>\n",
      "RangeIndex: 932473 entries, 0 to 932472\n",
      "Data columns (total 18 columns):\n",
      "Date_received                   932473 non-null object\n",
      "Product                         932473 non-null object\n",
      "Sub_product                     697303 non-null object\n",
      "Issue                           932473 non-null object\n",
      "Sub_issue                       450184 non-null object\n",
      "Consumer_complaint_narrative    227328 non-null object\n",
      "Company_public_response         271533 non-null object\n",
      "Company                         932473 non-null object\n",
      "State                           922555 non-null object\n",
      "Zip                             918556 non-null object\n",
      "Tags                            129864 non-null object\n",
      "Consumer_consent_provided?      410778 non-null object\n",
      "Submitted_via                   932473 non-null object\n",
      "Date_sent_to_company            932473 non-null object\n",
      "Company_response_to_consumer    932473 non-null object\n",
      "Timely_response?                932473 non-null object\n",
      "Consumer_disputed?              768570 non-null object\n",
      "Complaint_ID                    932473 non-null int64\n",
      "dtypes: int64(1), object(17)\n",
      "memory usage: 128.1+ MB\n"
     ]
    }
   ],
   "source": [
    "complaints_df.info()"
   ]
  },
  {
   "cell_type": "code",
   "execution_count": 85,
   "metadata": {},
   "outputs": [],
   "source": [
    "complaints_df['Date_received'] = pd.to_datetime(complaints_df['Date_received'])\n",
    "complaints_df['Date_sent_to_company'] = pd.to_datetime(complaints_df['Date_sent_to_company'])"
   ]
  },
  {
   "cell_type": "markdown",
   "metadata": {},
   "source": [
    "### Univariate Analysis\n",
    "In this section, I will explore variables individually."
   ]
  },
  {
   "cell_type": "code",
   "execution_count": 86,
   "metadata": {},
   "outputs": [
    {
     "data": {
      "text/plain": [
       "(932473, 18)"
      ]
     },
     "execution_count": 86,
     "metadata": {},
     "output_type": "execute_result"
    }
   ],
   "source": [
    "complaints_df.shape"
   ]
  },
  {
   "cell_type": "code",
   "execution_count": 87,
   "metadata": {
    "scrolled": true
   },
   "outputs": [
    {
     "name": "stdout",
     "output_type": "stream",
     "text": [
      "<class 'pandas.core.frame.DataFrame'>\n",
      "RangeIndex: 932473 entries, 0 to 932472\n",
      "Data columns (total 18 columns):\n",
      "Date_received                   932473 non-null datetime64[ns]\n",
      "Product                         932473 non-null object\n",
      "Sub_product                     697303 non-null object\n",
      "Issue                           932473 non-null object\n",
      "Sub_issue                       450184 non-null object\n",
      "Consumer_complaint_narrative    227328 non-null object\n",
      "Company_public_response         271533 non-null object\n",
      "Company                         932473 non-null object\n",
      "State                           922555 non-null object\n",
      "Zip                             918556 non-null object\n",
      "Tags                            129864 non-null object\n",
      "Consumer_consent_provided?      410778 non-null object\n",
      "Submitted_via                   932473 non-null object\n",
      "Date_sent_to_company            932473 non-null datetime64[ns]\n",
      "Company_response_to_consumer    932473 non-null object\n",
      "Timely_response?                932473 non-null object\n",
      "Consumer_disputed?              768570 non-null object\n",
      "Complaint_ID                    932473 non-null int64\n",
      "dtypes: datetime64[ns](2), int64(1), object(15)\n",
      "memory usage: 128.1+ MB\n"
     ]
    }
   ],
   "source": [
    "complaints_df.info()"
   ]
  },
  {
   "cell_type": "code",
   "execution_count": 91,
   "metadata": {},
   "outputs": [
    {
     "data": {
      "text/plain": [
       "CA    131832\n",
       "FL     88556\n",
       "TX     74549\n",
       "NY     62778\n",
       "GA     46323\n",
       "NJ     35907\n",
       "IL     34949\n",
       "PA     32541\n",
       "VA     28919\n",
       "MD     28528\n",
       "OH     28317\n",
       "NC     27509\n",
       "MI     22792\n",
       "AZ     20568\n",
       "WA     19070\n",
       "MA     17568\n",
       "CO     15810\n",
       "TN     14969\n",
       "SC     12945\n",
       "MO     12442\n",
       "NV     11406\n",
       "CT     10849\n",
       "IN     10680\n",
       "OR     10488\n",
       "MN     10412\n",
       "LA     10294\n",
       "AL     10180\n",
       "WI      9948\n",
       "KY      6781\n",
       "OK      6063\n",
       "       ...  \n",
       "MS      4767\n",
       "DE      4716\n",
       "KS      4635\n",
       "NM      4420\n",
       "AR      4193\n",
       "NH      3973\n",
       "IA      3881\n",
       "ID      3028\n",
       "HI      2971\n",
       "ME      2943\n",
       "NE      2849\n",
       "RI      2844\n",
       "PR      2401\n",
       "WV      2368\n",
       "MT      1490\n",
       "VT      1404\n",
       "SD      1254\n",
       "AK      1034\n",
       "ND       939\n",
       "WY       855\n",
       "AE       378\n",
       "AP       267\n",
       "VI       200\n",
       "GU       146\n",
       "FM        48\n",
       "MP        31\n",
       "MH        30\n",
       "AS        25\n",
       "AA        15\n",
       "PW        13\n",
       "Name: State, Length: 62, dtype: int64"
      ]
     },
     "execution_count": 91,
     "metadata": {},
     "output_type": "execute_result"
    }
   ],
   "source": [
    "complaints_df.State.value_counts()"
   ]
  },
  {
   "cell_type": "code",
   "execution_count": null,
   "metadata": {},
   "outputs": [],
   "source": []
  }
 ],
 "metadata": {
  "kernelspec": {
   "display_name": "Python 3",
   "language": "python",
   "name": "python3"
  },
  "language_info": {
   "codemirror_mode": {
    "name": "ipython",
    "version": 3
   },
   "file_extension": ".py",
   "mimetype": "text/x-python",
   "name": "python",
   "nbconvert_exporter": "python",
   "pygments_lexer": "ipython3",
   "version": "3.6.3"
  }
 },
 "nbformat": 4,
 "nbformat_minor": 2
}
