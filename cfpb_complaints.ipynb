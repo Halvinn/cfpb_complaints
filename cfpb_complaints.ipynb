{
 "cells": [
  {
   "cell_type": "markdown",
   "metadata": {},
   "source": [
    "# Exploratory Data Analysis\n",
    "## CFPB Complaints\n",
    "\n",
    "The purpose of this project is to download and explore a dataset using Python and associated libraries."
   ]
  },
  {
   "cell_type": "markdown",
   "metadata": {},
   "source": [
    "The dataset is about consumer complaints about finacial products and services collected by the Consumer Financial Protection Bureau (CFPB). The data can be downloaded from the [data.gov](https://www.data.gov) website which hosts the U.S Government's open data."
   ]
  },
  {
   "cell_type": "markdown",
   "metadata": {},
   "source": [
    "### Import Libraries"
   ]
  },
  {
   "cell_type": "code",
   "execution_count": 2,
   "metadata": {},
   "outputs": [],
   "source": [
    "%matplotlib inline"
   ]
  },
  {
   "cell_type": "code",
   "execution_count": 6,
   "metadata": {},
   "outputs": [],
   "source": [
    "import pandas as pd\n",
    "import numpy as np\n",
    "import json\n",
    "import requests\n",
    "import re\n",
    "import matplotlib.pyplot as plt\n",
    "import seaborn as sns"
   ]
  },
  {
   "cell_type": "code",
   "execution_count": 4,
   "metadata": {},
   "outputs": [],
   "source": [
    "pd.set_option('display.max_colwidth',1000) # Show complete text in dataframe with truncating."
   ]
  },
  {
   "cell_type": "markdown",
   "metadata": {},
   "source": [
    "### Gather"
   ]
  },
  {
   "cell_type": "markdown",
   "metadata": {},
   "source": [
    "Downloaded dataset manually as a csv file and saved it locally as the file is too large and is causing app to crash when I download automatically using the requests library. (should check this out to see why)"
   ]
  },
  {
   "cell_type": "code",
   "execution_count": 32,
   "metadata": {},
   "outputs": [],
   "source": [
    "complaints_df = pd.read_csv(\"Consumer_Complaints.csv\") # Read csv file into Pandas DataFrame."
   ]
  },
  {
   "cell_type": "markdown",
   "metadata": {},
   "source": [
    "### Univariate Analysis\n",
    "In this section, I will explore variables individually."
   ]
  },
  {
   "cell_type": "code",
   "execution_count": 34,
   "metadata": {},
   "outputs": [
    {
     "data": {
      "text/plain": [
       "(932473, 18)"
      ]
     },
     "execution_count": 34,
     "metadata": {},
     "output_type": "execute_result"
    }
   ],
   "source": [
    "complaints_df.shape"
   ]
  },
  {
   "cell_type": "code",
   "execution_count": 31,
   "metadata": {
    "scrolled": true
   },
   "outputs": [
    {
     "name": "stdout",
     "output_type": "stream",
     "text": [
      "<class 'pandas.core.frame.DataFrame'>\n",
      "RangeIndex: 932473 entries, 0 to 932472\n",
      "Data columns (total 18 columns):\n",
      "Date received                   932473 non-null object\n",
      "Product                         932473 non-null object\n",
      "Sub-product                     697303 non-null object\n",
      "Issue                           932473 non-null object\n",
      "Sub-issue                       450184 non-null object\n",
      "Consumer complaint narrative    227328 non-null object\n",
      "Company public response         271533 non-null object\n",
      "Company                         932473 non-null object\n",
      "State                           922555 non-null object\n",
      "ZIP code                        918556 non-null object\n",
      "Tags                            129864 non-null object\n",
      "Consumer consent provided?      410778 non-null object\n",
      "Submitted via                   932473 non-null object\n",
      "Date sent to company            932473 non-null object\n",
      "Company response to consumer    932473 non-null object\n",
      "Timely response?                932473 non-null object\n",
      "Consumer disputed?              768570 non-null object\n",
      "Complaint ID                    932473 non-null int64\n",
      "dtypes: int64(1), object(17)\n",
      "memory usage: 128.1+ MB\n"
     ]
    }
   ],
   "source": [
    "complaints_df.info()"
   ]
  },
  {
   "cell_type": "code",
   "execution_count": 37,
   "metadata": {},
   "outputs": [
    {
     "data": {
      "text/html": [
       "<div>\n",
       "<style scoped>\n",
       "    .dataframe tbody tr th:only-of-type {\n",
       "        vertical-align: middle;\n",
       "    }\n",
       "\n",
       "    .dataframe tbody tr th {\n",
       "        vertical-align: top;\n",
       "    }\n",
       "\n",
       "    .dataframe thead th {\n",
       "        text-align: right;\n",
       "    }\n",
       "</style>\n",
       "<table border=\"1\" class=\"dataframe\">\n",
       "  <thead>\n",
       "    <tr style=\"text-align: right;\">\n",
       "      <th></th>\n",
       "      <th>Date received</th>\n",
       "      <th>Product</th>\n",
       "      <th>Sub-product</th>\n",
       "      <th>Issue</th>\n",
       "      <th>Sub-issue</th>\n",
       "      <th>Consumer complaint narrative</th>\n",
       "      <th>Company public response</th>\n",
       "      <th>Company</th>\n",
       "      <th>State</th>\n",
       "      <th>ZIP code</th>\n",
       "      <th>Tags</th>\n",
       "      <th>Consumer consent provided?</th>\n",
       "      <th>Submitted via</th>\n",
       "      <th>Date sent to company</th>\n",
       "      <th>Company response to consumer</th>\n",
       "      <th>Timely response?</th>\n",
       "      <th>Consumer disputed?</th>\n",
       "      <th>Complaint ID</th>\n",
       "    </tr>\n",
       "  </thead>\n",
       "  <tbody>\n",
       "    <tr>\n",
       "      <th>755702</th>\n",
       "      <td>10/03/2016</td>\n",
       "      <td>Student loan</td>\n",
       "      <td>Federal student loan servicing</td>\n",
       "      <td>Dealing with my lender or servicer</td>\n",
       "      <td>Received bad information about my loan</td>\n",
       "      <td>Scam and charge for consolidating student loan. Great Lakes Servicer Referred me to a scam called XXXX XXXX XXXX. Illegally charged me XXXX to consolidate my loan. It was the fault of Great Lakes who did the referral.</td>\n",
       "      <td>Company believes it acted appropriately as authorized by contract or law</td>\n",
       "      <td>GREAT LAKES</td>\n",
       "      <td>CA</td>\n",
       "      <td>921XX</td>\n",
       "      <td>Servicemember</td>\n",
       "      <td>Consent provided</td>\n",
       "      <td>Web</td>\n",
       "      <td>10/06/2016</td>\n",
       "      <td>Closed with explanation</td>\n",
       "      <td>Yes</td>\n",
       "      <td>No</td>\n",
       "      <td>2144036</td>\n",
       "    </tr>\n",
       "    <tr>\n",
       "      <th>75617</th>\n",
       "      <td>04/17/2015</td>\n",
       "      <td>Debt collection</td>\n",
       "      <td>Other (i.e. phone, health club, etc.)</td>\n",
       "      <td>False statements or representation</td>\n",
       "      <td>Attempted to collect wrong amount</td>\n",
       "      <td>they are charging me more than i owed.</td>\n",
       "      <td>NaN</td>\n",
       "      <td>Diversified Consultants, Inc.</td>\n",
       "      <td>CA</td>\n",
       "      <td>945XX</td>\n",
       "      <td>Servicemember</td>\n",
       "      <td>Consent provided</td>\n",
       "      <td>Web</td>\n",
       "      <td>04/20/2015</td>\n",
       "      <td>Closed with explanation</td>\n",
       "      <td>Yes</td>\n",
       "      <td>No</td>\n",
       "      <td>1334752</td>\n",
       "    </tr>\n",
       "    <tr>\n",
       "      <th>294009</th>\n",
       "      <td>04/13/2014</td>\n",
       "      <td>Mortgage</td>\n",
       "      <td>Conventional adjustable mortgage (ARM)</td>\n",
       "      <td>Loan modification,collection,foreclosure</td>\n",
       "      <td>NaN</td>\n",
       "      <td>NaN</td>\n",
       "      <td>NaN</td>\n",
       "      <td>SELECT PORTFOLIO SERVICING, INC.</td>\n",
       "      <td>OK</td>\n",
       "      <td>73026</td>\n",
       "      <td>NaN</td>\n",
       "      <td>NaN</td>\n",
       "      <td>Web</td>\n",
       "      <td>04/13/2014</td>\n",
       "      <td>Closed</td>\n",
       "      <td>Yes</td>\n",
       "      <td>No</td>\n",
       "      <td>806548</td>\n",
       "    </tr>\n",
       "    <tr>\n",
       "      <th>277183</th>\n",
       "      <td>06/16/2017</td>\n",
       "      <td>Checking or savings account</td>\n",
       "      <td>Checking account</td>\n",
       "      <td>Managing an account</td>\n",
       "      <td>Problem accessing account</td>\n",
       "      <td>Trying to connect my bank to app called active hour they are having issue with verifying account using a third party vendor.     We do not have a connection with your bank because the third party bank provider is not seeing able any recent direct deposits, but not because we need a screenshot. Your account was looked at by our team and we were able to see that the issue was the third party provider. There is nothing you and we can do at this point besides wait for our third party provider to fix the issue. : - (</td>\n",
       "      <td>Company has responded to the consumer and the CFPB and chooses not to provide a public response</td>\n",
       "      <td>M&amp;T BANK CORPORATION</td>\n",
       "      <td>NY</td>\n",
       "      <td>142XX</td>\n",
       "      <td>NaN</td>\n",
       "      <td>Consent provided</td>\n",
       "      <td>Web</td>\n",
       "      <td>06/16/2017</td>\n",
       "      <td>Closed with explanation</td>\n",
       "      <td>Yes</td>\n",
       "      <td>NaN</td>\n",
       "      <td>2551692</td>\n",
       "    </tr>\n",
       "    <tr>\n",
       "      <th>823688</th>\n",
       "      <td>06/23/2017</td>\n",
       "      <td>Debt collection</td>\n",
       "      <td>Credit card debt</td>\n",
       "      <td>Written notification about debt</td>\n",
       "      <td>Didn't receive notice of right to dispute</td>\n",
       "      <td>My husband and I have had an XXXX XXXX XXXX XXXX for 9 years and have never had an experience like this. We are 2 hard working honest people and not use to dealing with criminals. Some bad people are using stolen credit cards and purchasing products from our company, and had the products shipped to an address in XXXX XXXX, FL that turns out to be a freight forwarding company. The credit cards used are stolen and the owners are not aware of the use till its to late. Orders for our merchandise are processed by Pay Pal. We collect the name, address, phone number, credit card number, CVV number for each transaction and the information is processed by the card holders bank and approved back to PayPal. They approved the purchases in question ( approximately {$6000.00} ) and Pay Pal sends us an OK to ship the products. We then send order information to our suppliers who ship the products to the purchaser. After a few weeks, the REAL Owner of the credit card files a complaint with Pay Pal ...</td>\n",
       "      <td>NaN</td>\n",
       "      <td>PAYPAL HOLDINGS INC.</td>\n",
       "      <td>FL</td>\n",
       "      <td>321XX</td>\n",
       "      <td>Older American, Servicemember</td>\n",
       "      <td>Consent provided</td>\n",
       "      <td>Web</td>\n",
       "      <td>06/23/2017</td>\n",
       "      <td>Closed with explanation</td>\n",
       "      <td>Yes</td>\n",
       "      <td>NaN</td>\n",
       "      <td>2557296</td>\n",
       "    </tr>\n",
       "  </tbody>\n",
       "</table>\n",
       "</div>"
      ],
      "text/plain": [
       "       Date received                      Product  \\\n",
       "755702    10/03/2016                 Student loan   \n",
       "75617     04/17/2015              Debt collection   \n",
       "294009    04/13/2014                     Mortgage   \n",
       "277183    06/16/2017  Checking or savings account   \n",
       "823688    06/23/2017              Debt collection   \n",
       "\n",
       "                                   Sub-product  \\\n",
       "755702          Federal student loan servicing   \n",
       "75617    Other (i.e. phone, health club, etc.)   \n",
       "294009  Conventional adjustable mortgage (ARM)   \n",
       "277183                        Checking account   \n",
       "823688                        Credit card debt   \n",
       "\n",
       "                                           Issue  \\\n",
       "755702        Dealing with my lender or servicer   \n",
       "75617         False statements or representation   \n",
       "294009  Loan modification,collection,foreclosure   \n",
       "277183                       Managing an account   \n",
       "823688           Written notification about debt   \n",
       "\n",
       "                                        Sub-issue  \\\n",
       "755702     Received bad information about my loan   \n",
       "75617           Attempted to collect wrong amount   \n",
       "294009                                        NaN   \n",
       "277183                  Problem accessing account   \n",
       "823688  Didn't receive notice of right to dispute   \n",
       "\n",
       "                                                                                                                                                                                                                                                                                                                                                                                                                                                                                                                                                                                                                                                                                                                                                                                                                                                                                                                                                                                                                   Consumer complaint narrative  \\\n",
       "755702                                                                                                                                                                                                                                                                                                                                                                                                                                                                                                                                                                                                                                                                                                                                                                                                                Scam and charge for consolidating student loan. Great Lakes Servicer Referred me to a scam called XXXX XXXX XXXX. Illegally charged me XXXX to consolidate my loan. It was the fault of Great Lakes who did the referral.   \n",
       "75617                                                                                                                                                                                                                                                                                                                                                                                                                                                                                                                                                                                                                                                                                                                                                                                                                                                                                                                                                                                                    they are charging me more than i owed.   \n",
       "294009                                                                                                                                                                                                                                                                                                                                                                                                                                                                                                                                                                                                                                                                                                                                                                                                                                                                                                                                                                                                                                      NaN   \n",
       "277183                                                                                                                                                                                                                                                                                                                                                                                                                                                                                                    Trying to connect my bank to app called active hour they are having issue with verifying account using a third party vendor.     We do not have a connection with your bank because the third party bank provider is not seeing able any recent direct deposits, but not because we need a screenshot. Your account was looked at by our team and we were able to see that the issue was the third party provider. There is nothing you and we can do at this point besides wait for our third party provider to fix the issue. : - (   \n",
       "823688  My husband and I have had an XXXX XXXX XXXX XXXX for 9 years and have never had an experience like this. We are 2 hard working honest people and not use to dealing with criminals. Some bad people are using stolen credit cards and purchasing products from our company, and had the products shipped to an address in XXXX XXXX, FL that turns out to be a freight forwarding company. The credit cards used are stolen and the owners are not aware of the use till its to late. Orders for our merchandise are processed by Pay Pal. We collect the name, address, phone number, credit card number, CVV number for each transaction and the information is processed by the card holders bank and approved back to PayPal. They approved the purchases in question ( approximately {$6000.00} ) and Pay Pal sends us an OK to ship the products. We then send order information to our suppliers who ship the products to the purchaser. After a few weeks, the REAL Owner of the credit card files a complaint with Pay Pal ...   \n",
       "\n",
       "                                                                                Company public response  \\\n",
       "755702                         Company believes it acted appropriately as authorized by contract or law   \n",
       "75617                                                                                               NaN   \n",
       "294009                                                                                              NaN   \n",
       "277183  Company has responded to the consumer and the CFPB and chooses not to provide a public response   \n",
       "823688                                                                                              NaN   \n",
       "\n",
       "                                 Company State ZIP code  \\\n",
       "755702                       GREAT LAKES    CA    921XX   \n",
       "75617      Diversified Consultants, Inc.    CA    945XX   \n",
       "294009  SELECT PORTFOLIO SERVICING, INC.    OK    73026   \n",
       "277183              M&T BANK CORPORATION    NY    142XX   \n",
       "823688              PAYPAL HOLDINGS INC.    FL    321XX   \n",
       "\n",
       "                                 Tags Consumer consent provided?  \\\n",
       "755702                  Servicemember           Consent provided   \n",
       "75617                   Servicemember           Consent provided   \n",
       "294009                            NaN                        NaN   \n",
       "277183                            NaN           Consent provided   \n",
       "823688  Older American, Servicemember           Consent provided   \n",
       "\n",
       "       Submitted via Date sent to company Company response to consumer  \\\n",
       "755702           Web           10/06/2016      Closed with explanation   \n",
       "75617            Web           04/20/2015      Closed with explanation   \n",
       "294009           Web           04/13/2014                       Closed   \n",
       "277183           Web           06/16/2017      Closed with explanation   \n",
       "823688           Web           06/23/2017      Closed with explanation   \n",
       "\n",
       "       Timely response? Consumer disputed?  Complaint ID  \n",
       "755702              Yes                 No       2144036  \n",
       "75617               Yes                 No       1334752  \n",
       "294009              Yes                 No        806548  \n",
       "277183              Yes                NaN       2551692  \n",
       "823688              Yes                NaN       2557296  "
      ]
     },
     "execution_count": 37,
     "metadata": {},
     "output_type": "execute_result"
    }
   ],
   "source": [
    "complaints_df.sample(5)"
   ]
  },
  {
   "cell_type": "markdown",
   "metadata": {},
   "source": []
  }
 ],
 "metadata": {
  "kernelspec": {
   "display_name": "Python 3",
   "language": "python",
   "name": "python3"
  },
  "language_info": {
   "codemirror_mode": {
    "name": "ipython",
    "version": 3
   },
   "file_extension": ".py",
   "mimetype": "text/x-python",
   "name": "python",
   "nbconvert_exporter": "python",
   "pygments_lexer": "ipython3",
   "version": "3.6.3"
  }
 },
 "nbformat": 4,
 "nbformat_minor": 2
}
