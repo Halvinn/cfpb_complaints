{
 "cells": [
  {
   "cell_type": "markdown",
   "metadata": {},
   "source": [
    "# Exploratory Data Analysis\n",
    "## CFPB Complaints\n",
    "\n",
    "The purpose of this project is to download and explore a dataset using Python and associated libraries."
   ]
  },
  {
   "cell_type": "markdown",
   "metadata": {},
   "source": [
    "The dataset is about consumer complaints about finacial products and services collected by the Consumer Financial Protection Bureau (CFPB). The data can be downloaded from the [data.gov](https://www.data.gov) website which hosts the U.S Government's open data."
   ]
  },
  {
   "cell_type": "markdown",
   "metadata": {},
   "source": [
    "### Import Libraries"
   ]
  },
  {
   "cell_type": "code",
   "execution_count": 1,
   "metadata": {},
   "outputs": [],
   "source": [
    "%matplotlib inline\n",
    "\n",
    "import pandas as pd\n",
    "import numpy as np\n",
    "import json\n",
    "import requests\n",
    "from datetime import datetime\n",
    "import matplotlib.pyplot as plt\n",
    "import seaborn as sns\n",
    "import warnings"
   ]
  },
  {
   "cell_type": "code",
   "execution_count": 2,
   "metadata": {},
   "outputs": [],
   "source": [
    "warnings.simplefilter('ignore')\n",
    "pd.set_option('display.max_colwidth',1000) # Show complete text in dataframe without truncating."
   ]
  },
  {
   "cell_type": "markdown",
   "metadata": {},
   "source": [
    "### Gather"
   ]
  },
  {
   "cell_type": "markdown",
   "metadata": {},
   "source": [
    "Downloaded dataset manually as a csv file and saved it locally as the file is too large and is causing app to crash when I download automatically using the requests library. (should check this out to see why)"
   ]
  },
  {
   "cell_type": "code",
   "execution_count": 3,
   "metadata": {
    "scrolled": false
   },
   "outputs": [],
   "source": [
    "# Read csv file into Pandas DataFrame suing chunksize due to memory issue (csv file is ~ 450 Mb)\n",
    "\n",
    "complaints_df = pd.read_csv('Consumer_Complaints.csv', index_col=0, parse_dates=['Date received', 'Date sent to company'],\\\n",
    "            infer_datetime_format=True)\n"
   ]
  },
  {
   "cell_type": "code",
   "execution_count": 4,
   "metadata": {},
   "outputs": [],
   "source": [
    "#Rename column and index names.\n",
    "col_names = ['Product', 'sub_product', 'issue', 'sub_issue',\n",
    "       'consumer_complaint_narrative', 'company_public_response', 'company',\n",
    "       'state', 'zip', 'tags', 'consumer_consent_provided?',\n",
    "       'submitted_via', 'date_sent_to_company', 'company_response_to_consumer',\n",
    "       'timely_response?', 'consumer_disputed?', 'complaint_ID']\n",
    "\n",
    "complaints_df.columns = col_names\n",
    "complaints_df.index.name = 'date_received'"
   ]
  },
  {
   "cell_type": "code",
   "execution_count": 5,
   "metadata": {},
   "outputs": [
    {
     "name": "stdout",
     "output_type": "stream",
     "text": [
      "<class 'pandas.core.frame.DataFrame'>\n",
      "DatetimeIndex: 932473 entries, 2014-03-12 to 2016-08-19\n",
      "Data columns (total 17 columns):\n",
      "Product                         932473 non-null object\n",
      "sub_product                     697303 non-null object\n",
      "issue                           932473 non-null object\n",
      "sub_issue                       450184 non-null object\n",
      "consumer_complaint_narrative    227328 non-null object\n",
      "company_public_response         271533 non-null object\n",
      "company                         932473 non-null object\n",
      "state                           922555 non-null object\n",
      "zip                             918556 non-null object\n",
      "tags                            129864 non-null object\n",
      "consumer_consent_provided?      410778 non-null object\n",
      "submitted_via                   932473 non-null object\n",
      "date_sent_to_company            932473 non-null datetime64[ns]\n",
      "company_response_to_consumer    932473 non-null object\n",
      "timely_response?                932473 non-null object\n",
      "consumer_disputed?              768570 non-null object\n",
      "complaint_ID                    932473 non-null int64\n",
      "dtypes: datetime64[ns](1), int64(1), object(15)\n",
      "memory usage: 128.1+ MB\n"
     ]
    }
   ],
   "source": [
    "complaints_df.info()"
   ]
  },
  {
   "cell_type": "code",
   "execution_count": 6,
   "metadata": {},
   "outputs": [
    {
     "data": {
      "text/plain": [
       "DatetimeIndex(['2014-03-12', '2016-10-01', '2016-10-17', '2014-06-08',\n",
       "               '2014-09-13', '2013-11-13', '2015-06-16', '2015-06-15',\n",
       "               '2015-11-13', '2014-10-21',\n",
       "               ...\n",
       "               '2015-09-17', '2014-02-11', '2016-11-09', '2016-01-22',\n",
       "               '2017-01-26', '2017-04-10', '2017-02-07', '2017-01-04',\n",
       "               '2015-09-28', '2016-08-19'],\n",
       "              dtype='datetime64[ns]', name='date_received', length=932473, freq=None)"
      ]
     },
     "execution_count": 6,
     "metadata": {},
     "output_type": "execute_result"
    }
   ],
   "source": [
    "complaints_df.index"
   ]
  },
  {
   "cell_type": "code",
   "execution_count": 7,
   "metadata": {},
   "outputs": [
    {
     "data": {
      "text/html": [
       "<div>\n",
       "<style scoped>\n",
       "    .dataframe tbody tr th:only-of-type {\n",
       "        vertical-align: middle;\n",
       "    }\n",
       "\n",
       "    .dataframe tbody tr th {\n",
       "        vertical-align: top;\n",
       "    }\n",
       "\n",
       "    .dataframe thead th {\n",
       "        text-align: right;\n",
       "    }\n",
       "</style>\n",
       "<table border=\"1\" class=\"dataframe\">\n",
       "  <thead>\n",
       "    <tr style=\"text-align: right;\">\n",
       "      <th></th>\n",
       "      <th>Product</th>\n",
       "      <th>sub_product</th>\n",
       "      <th>issue</th>\n",
       "      <th>sub_issue</th>\n",
       "      <th>consumer_complaint_narrative</th>\n",
       "      <th>company_public_response</th>\n",
       "      <th>company</th>\n",
       "      <th>state</th>\n",
       "      <th>zip</th>\n",
       "      <th>tags</th>\n",
       "      <th>consumer_consent_provided?</th>\n",
       "      <th>submitted_via</th>\n",
       "      <th>date_sent_to_company</th>\n",
       "      <th>company_response_to_consumer</th>\n",
       "      <th>timely_response?</th>\n",
       "      <th>consumer_disputed?</th>\n",
       "      <th>complaint_ID</th>\n",
       "    </tr>\n",
       "    <tr>\n",
       "      <th>date_received</th>\n",
       "      <th></th>\n",
       "      <th></th>\n",
       "      <th></th>\n",
       "      <th></th>\n",
       "      <th></th>\n",
       "      <th></th>\n",
       "      <th></th>\n",
       "      <th></th>\n",
       "      <th></th>\n",
       "      <th></th>\n",
       "      <th></th>\n",
       "      <th></th>\n",
       "      <th></th>\n",
       "      <th></th>\n",
       "      <th></th>\n",
       "      <th></th>\n",
       "      <th></th>\n",
       "    </tr>\n",
       "  </thead>\n",
       "  <tbody>\n",
       "    <tr>\n",
       "      <th>2014-09-25</th>\n",
       "      <td>Mortgage</td>\n",
       "      <td>Other mortgage</td>\n",
       "      <td>Loan servicing, payments, escrow account</td>\n",
       "      <td>NaN</td>\n",
       "      <td>NaN</td>\n",
       "      <td>NaN</td>\n",
       "      <td>KEYCORP</td>\n",
       "      <td>CO</td>\n",
       "      <td>80305</td>\n",
       "      <td>NaN</td>\n",
       "      <td>NaN</td>\n",
       "      <td>Web</td>\n",
       "      <td>2014-09-25</td>\n",
       "      <td>Closed with explanation</td>\n",
       "      <td>Yes</td>\n",
       "      <td>No</td>\n",
       "      <td>1044915</td>\n",
       "    </tr>\n",
       "    <tr>\n",
       "      <th>2013-12-16</th>\n",
       "      <td>Bank account or service</td>\n",
       "      <td>Checking account</td>\n",
       "      <td>Deposits and withdrawals</td>\n",
       "      <td>NaN</td>\n",
       "      <td>NaN</td>\n",
       "      <td>NaN</td>\n",
       "      <td>BBVA COMPASS FINANCIAL CORPORATION</td>\n",
       "      <td>TX</td>\n",
       "      <td>75214</td>\n",
       "      <td>NaN</td>\n",
       "      <td>NaN</td>\n",
       "      <td>Web</td>\n",
       "      <td>2013-12-16</td>\n",
       "      <td>Closed with explanation</td>\n",
       "      <td>Yes</td>\n",
       "      <td>No</td>\n",
       "      <td>635013</td>\n",
       "    </tr>\n",
       "    <tr>\n",
       "      <th>2013-04-09</th>\n",
       "      <td>Mortgage</td>\n",
       "      <td>Other mortgage</td>\n",
       "      <td>Loan modification,collection,foreclosure</td>\n",
       "      <td>NaN</td>\n",
       "      <td>NaN</td>\n",
       "      <td>NaN</td>\n",
       "      <td>CITIBANK, N.A.</td>\n",
       "      <td>CT</td>\n",
       "      <td>06897</td>\n",
       "      <td>NaN</td>\n",
       "      <td>NaN</td>\n",
       "      <td>Referral</td>\n",
       "      <td>2013-04-10</td>\n",
       "      <td>Closed with explanation</td>\n",
       "      <td>Yes</td>\n",
       "      <td>No</td>\n",
       "      <td>377846</td>\n",
       "    </tr>\n",
       "    <tr>\n",
       "      <th>2013-07-11</th>\n",
       "      <td>Mortgage</td>\n",
       "      <td>Other mortgage</td>\n",
       "      <td>Loan modification,collection,foreclosure</td>\n",
       "      <td>NaN</td>\n",
       "      <td>NaN</td>\n",
       "      <td>NaN</td>\n",
       "      <td>Ditech Financial LLC</td>\n",
       "      <td>NY</td>\n",
       "      <td>10920</td>\n",
       "      <td>NaN</td>\n",
       "      <td>NaN</td>\n",
       "      <td>Referral</td>\n",
       "      <td>2013-07-15</td>\n",
       "      <td>Closed with explanation</td>\n",
       "      <td>Yes</td>\n",
       "      <td>Yes</td>\n",
       "      <td>455213</td>\n",
       "    </tr>\n",
       "    <tr>\n",
       "      <th>2016-08-30</th>\n",
       "      <td>Debt collection</td>\n",
       "      <td>Other (i.e. phone, health club, etc.)</td>\n",
       "      <td>Cont'd attempts collect debt not owed</td>\n",
       "      <td>Debt is not mine</td>\n",
       "      <td>Hi. My dad and I rented a property together in XXXX. My dad fell ill with a XXXX and his doctor ordered that he be placed in a XXXX ( XXXX ). My dad actually qualified for the property due to his financial status. However when my dad moved, so did most of our resources, leaving me with my income to care for the household. I got behind 45 days and received an eviction notice. I concurred with the eviction and vacated the property in XXXX XXXX or XXXX XXXX. Homeless, my XXXX kids and I stayed in a motel.To make a long story short, in XXXX of XXXX, out of NOWHERE, i received a letter from National Credit XXXX from the property management company saying I owe {$7900.00} for various damages. I left the property clean with no damages. I have been away from this property for over a year and some months!!! I paid {$50.00} to speak with an attorney for 30 minutes. He stated that \" a landlord/property management company have 30 days to go after a tenant for property damages in the state of G...</td>\n",
       "      <td>Company believes complaint caused principally by actions of third party outside the control or direction of the company</td>\n",
       "      <td>National Credit Systems,Inc.</td>\n",
       "      <td>GA</td>\n",
       "      <td>300XX</td>\n",
       "      <td>Servicemember</td>\n",
       "      <td>Consent provided</td>\n",
       "      <td>Web</td>\n",
       "      <td>2016-09-14</td>\n",
       "      <td>Closed with explanation</td>\n",
       "      <td>Yes</td>\n",
       "      <td>No</td>\n",
       "      <td>2085461</td>\n",
       "    </tr>\n",
       "  </tbody>\n",
       "</table>\n",
       "</div>"
      ],
      "text/plain": [
       "                               Product                            sub_product  \\\n",
       "date_received                                                                   \n",
       "2014-09-25                    Mortgage                         Other mortgage   \n",
       "2013-12-16     Bank account or service                       Checking account   \n",
       "2013-04-09                    Mortgage                         Other mortgage   \n",
       "2013-07-11                    Mortgage                         Other mortgage   \n",
       "2016-08-30             Debt collection  Other (i.e. phone, health club, etc.)   \n",
       "\n",
       "                                                  issue         sub_issue  \\\n",
       "date_received                                                               \n",
       "2014-09-25     Loan servicing, payments, escrow account               NaN   \n",
       "2013-12-16                     Deposits and withdrawals               NaN   \n",
       "2013-04-09     Loan modification,collection,foreclosure               NaN   \n",
       "2013-07-11     Loan modification,collection,foreclosure               NaN   \n",
       "2016-08-30        Cont'd attempts collect debt not owed  Debt is not mine   \n",
       "\n",
       "                                                                                                                                                                                                                                                                                                                                                                                                                                                                                                                                                                                                                                                                                                                                                                                                                                                                                                                                                                                                                          consumer_complaint_narrative  \\\n",
       "date_received                                                                                                                                                                                                                                                                                                                                                                                                                                                                                                                                                                                                                                                                                                                                                                                                                                                                                                                                                                                                                                            \n",
       "2014-09-25                                                                                                                                                                                                                                                                                                                                                                                                                                                                                                                                                                                                                                                                                                                                                                                                                                                                                                                                                                                                                                         NaN   \n",
       "2013-12-16                                                                                                                                                                                                                                                                                                                                                                                                                                                                                                                                                                                                                                                                                                                                                                                                                                                                                                                                                                                                                                         NaN   \n",
       "2013-04-09                                                                                                                                                                                                                                                                                                                                                                                                                                                                                                                                                                                                                                                                                                                                                                                                                                                                                                                                                                                                                                         NaN   \n",
       "2013-07-11                                                                                                                                                                                                                                                                                                                                                                                                                                                                                                                                                                                                                                                                                                                                                                                                                                                                                                                                                                                                                                         NaN   \n",
       "2016-08-30     Hi. My dad and I rented a property together in XXXX. My dad fell ill with a XXXX and his doctor ordered that he be placed in a XXXX ( XXXX ). My dad actually qualified for the property due to his financial status. However when my dad moved, so did most of our resources, leaving me with my income to care for the household. I got behind 45 days and received an eviction notice. I concurred with the eviction and vacated the property in XXXX XXXX or XXXX XXXX. Homeless, my XXXX kids and I stayed in a motel.To make a long story short, in XXXX of XXXX, out of NOWHERE, i received a letter from National Credit XXXX from the property management company saying I owe {$7900.00} for various damages. I left the property clean with no damages. I have been away from this property for over a year and some months!!! I paid {$50.00} to speak with an attorney for 30 minutes. He stated that \" a landlord/property management company have 30 days to go after a tenant for property damages in the state of G...   \n",
       "\n",
       "                                                                                                               company_public_response  \\\n",
       "date_received                                                                                                                            \n",
       "2014-09-25                                                                                                                         NaN   \n",
       "2013-12-16                                                                                                                         NaN   \n",
       "2013-04-09                                                                                                                         NaN   \n",
       "2013-07-11                                                                                                                         NaN   \n",
       "2016-08-30     Company believes complaint caused principally by actions of third party outside the control or direction of the company   \n",
       "\n",
       "                                          company state    zip           tags  \\\n",
       "date_received                                                                   \n",
       "2014-09-25                                KEYCORP    CO  80305            NaN   \n",
       "2013-12-16     BBVA COMPASS FINANCIAL CORPORATION    TX  75214            NaN   \n",
       "2013-04-09                         CITIBANK, N.A.    CT  06897            NaN   \n",
       "2013-07-11                   Ditech Financial LLC    NY  10920            NaN   \n",
       "2016-08-30           National Credit Systems,Inc.    GA  300XX  Servicemember   \n",
       "\n",
       "              consumer_consent_provided? submitted_via date_sent_to_company  \\\n",
       "date_received                                                                 \n",
       "2014-09-25                           NaN           Web           2014-09-25   \n",
       "2013-12-16                           NaN           Web           2013-12-16   \n",
       "2013-04-09                           NaN      Referral           2013-04-10   \n",
       "2013-07-11                           NaN      Referral           2013-07-15   \n",
       "2016-08-30              Consent provided           Web           2016-09-14   \n",
       "\n",
       "              company_response_to_consumer timely_response?  \\\n",
       "date_received                                                 \n",
       "2014-09-25         Closed with explanation              Yes   \n",
       "2013-12-16         Closed with explanation              Yes   \n",
       "2013-04-09         Closed with explanation              Yes   \n",
       "2013-07-11         Closed with explanation              Yes   \n",
       "2016-08-30         Closed with explanation              Yes   \n",
       "\n",
       "              consumer_disputed?  complaint_ID  \n",
       "date_received                                   \n",
       "2014-09-25                    No       1044915  \n",
       "2013-12-16                    No        635013  \n",
       "2013-04-09                    No        377846  \n",
       "2013-07-11                   Yes        455213  \n",
       "2016-08-30                    No       2085461  "
      ]
     },
     "execution_count": 7,
     "metadata": {},
     "output_type": "execute_result"
    }
   ],
   "source": [
    "complaints_df.sample(5)"
   ]
  },
  {
   "cell_type": "markdown",
   "metadata": {},
   "source": [
    "### Univariate Analysis\n",
    "In this section, I will explore variables individually."
   ]
  },
  {
   "cell_type": "code",
   "execution_count": 8,
   "metadata": {},
   "outputs": [
    {
     "data": {
      "text/plain": [
       "(932473, 17)"
      ]
     },
     "execution_count": 8,
     "metadata": {},
     "output_type": "execute_result"
    }
   ],
   "source": [
    "complaints_df.shape # Dataframe has 17 columns and 932,473 rows."
   ]
  },
  {
   "cell_type": "code",
   "execution_count": 9,
   "metadata": {},
   "outputs": [
    {
     "data": {
      "text/plain": [
       "product       18\n",
       "complaints    18\n",
       "dtype: int64"
      ]
     },
     "execution_count": 9,
     "metadata": {},
     "output_type": "execute_result"
    }
   ],
   "source": [
    "products = pd.DataFrame(complaints_df.Product.value_counts().reset_index())\n",
    "products.columns = ['product', 'complaints']\n",
    "products.count()"
   ]
  },
  {
   "cell_type": "code",
   "execution_count": 10,
   "metadata": {},
   "outputs": [
    {
     "data": {
      "text/plain": [
       "Text(0.5,1,'Product Complaints')"
      ]
     },
     "execution_count": 10,
     "metadata": {},
     "output_type": "execute_result"
    },
    {
     "data": {
      "image/png": "[encoded data removed]",
      "text/plain": [
       "<matplotlib.figure.Figure at 0x1817fced2b0>"
      ]
     },
     "metadata": {},
     "output_type": "display_data"
    }
   ],
   "source": [
    "plt.figure(figsize=(8, 7))\n",
    "sns.barplot(x='complaints', y='product', data=products)\n",
    "plt.title('Product Complaints')"
   ]
  },
  {
   "cell_type": "markdown",
   "metadata": {},
   "source": [
    "Grouping the complaints by product, we can see that most complaints are about Mortgages, with debt collection and credit reporting taking 2nd and 3rd place respectively."
   ]
  },
  {
   "cell_type": "markdown",
   "metadata": {},
   "source": [
    "Complaints are then further divided into sub_products. Debt collection further sub divided into 17 sub_product categories while Credit reporting, Payday loan, and Credit card categories have no further sub-categories."
   ]
  },
  {
   "cell_type": "code",
   "execution_count": 11,
   "metadata": {},
   "outputs": [
    {
     "data": {
      "text/plain": [
       "Product\n",
       "Debt collection                                                                 17\n",
       "Mortgage                                                                        11\n",
       "Money transfer, virtual currency, or money service                              10\n",
       "Prepaid card                                                                     9\n",
       "Other financial service                                                          7\n",
       "Consumer Loan                                                                    6\n",
       "Credit card or prepaid card                                                      6\n",
       "Checking or savings account                                                      5\n",
       "Bank account or service                                                          5\n",
       "Payday loan, title loan, or personal loan                                        5\n",
       "Vehicle loan or lease                                                            3\n",
       "Credit reporting, credit repair services, or other personal consumer reports     3\n",
       "Student loan                                                                     3\n",
       "Money transfers                                                                  2\n",
       "Virtual currency                                                                 2\n",
       "Credit reporting                                                                 0\n",
       "Payday loan                                                                      0\n",
       "Credit card                                                                      0\n",
       "Name: sub_product, dtype: int64"
      ]
     },
     "execution_count": 11,
     "metadata": {},
     "output_type": "execute_result"
    }
   ],
   "source": [
    "complaints_df.groupby('Product')['sub_product'].nunique().sort_values(ascending=False)"
   ]
  },
  {
   "cell_type": "code",
   "execution_count": 12,
   "metadata": {},
   "outputs": [],
   "source": [
    "def sub_products(prod):\n",
    "    '''Filter dataframe by product and return sub_products with value counts for specified product.'''\n",
    "    filtered = complaints_df.loc[complaints_df['Product'] == prod]\n",
    "    return filtered['sub_product'].value_counts()"
   ]
  },
  {
   "cell_type": "code",
   "execution_count": 13,
   "metadata": {},
   "outputs": [
    {
     "data": {
      "text/plain": [
       "Other mortgage                                86637\n",
       "Conventional fixed mortgage                   70617\n",
       "FHA mortgage                                  27011\n",
       "Conventional adjustable mortgage (ARM)        25382\n",
       "Home equity loan or line of credit            11626\n",
       "Conventional home mortgage                     9935\n",
       "VA mortgage                                    5928\n",
       "Other type of mortgage                         3994\n",
       "Reverse mortgage                               2396\n",
       "Home equity loan or line of credit (HELOC)     1257\n",
       "Second mortgage                                 662\n",
       "Name: sub_product, dtype: int64"
      ]
     },
     "execution_count": 13,
     "metadata": {},
     "output_type": "execute_result"
    }
   ],
   "source": [
    "mortgages = sub_products('Mortgage')\n",
    "mortgages"
   ]
  },
  {
   "cell_type": "code",
   "execution_count": 14,
   "metadata": {},
   "outputs": [
    {
     "data": {
      "image/png": "[encoded data removed]",
      "text/plain": [
       "<matplotlib.figure.Figure at 0x1816ef37390>"
      ]
     },
     "metadata": {},
     "output_type": "display_data"
    }
   ],
   "source": [
    "mortgages.plot.barh()\n",
    "plt.gca().invert_yaxis()\n",
    "plt.show()"
   ]
  },
  {
   "cell_type": "code",
   "execution_count": 15,
   "metadata": {},
   "outputs": [
    {
     "data": {
      "text/plain": [
       "Non-federal student loan          22283\n",
       "Federal student loan servicing    14591\n",
       "Private student loan               2793\n",
       "Name: sub_product, dtype: int64"
      ]
     },
     "execution_count": 15,
     "metadata": {},
     "output_type": "execute_result"
    }
   ],
   "source": [
    "sub_products('Student loan')"
   ]
  },
  {
   "cell_type": "markdown",
   "metadata": {},
   "source": [
    "### Complaints by Company"
   ]
  },
  {
   "cell_type": "code",
   "execution_count": 16,
   "metadata": {},
   "outputs": [
    {
     "data": {
      "text/plain": [
       "count            932473\n",
       "unique             4580\n",
       "top       EQUIFAX, INC.\n",
       "freq              73490\n",
       "Name: company, dtype: object"
      ]
     },
     "execution_count": 16,
     "metadata": {},
     "output_type": "execute_result"
    }
   ],
   "source": [
    "complaints_df['company'].describe()"
   ]
  },
  {
   "cell_type": "code",
   "execution_count": 20,
   "metadata": {},
   "outputs": [
    {
     "data": {
      "text/plain": [
       "EQUIFAX, INC.                             73490\n",
       "BANK OF AMERICA, NATIONAL ASSOCIATION     71552\n",
       "Experian Information Solutions Inc.       61988\n",
       "WELLS FARGO & COMPANY                     59362\n",
       "TRANSUNION INTERMEDIATE HOLDINGS, INC.    56546\n",
       "JPMORGAN CHASE & CO.                      48301\n",
       "CITIBANK, N.A.                            39259\n",
       "OCWEN LOAN SERVICING LLC                  25727\n",
       "CAPITAL ONE FINANCIAL CORPORATION         24353\n",
       "Navient Solutions, LLC.                   22457\n",
       "NATIONSTAR MORTGAGE                       17823\n",
       "SYNCHRONY FINANCIAL                       15581\n",
       "U.S. BANCORP                              13952\n",
       "Ditech Financial LLC                      12525\n",
       "AMERICAN EXPRESS COMPANY                   9849\n",
       "PNC Bank N.A.                              9618\n",
       "ENCORE CAPITAL GROUP INC.                  8952\n",
       "DISCOVER BANK                              7634\n",
       "HSBC NORTH AMERICA HOLDINGS INC.           7606\n",
       "SUNTRUST BANKS, INC.                       7031\n",
       "Name: company, dtype: int64"
      ]
     },
     "execution_count": 20,
     "metadata": {},
     "output_type": "execute_result"
    }
   ],
   "source": [
    "# Top 10 companies by complaints.\n",
    "complaints_df.company.value_counts().head(20)"
   ]
  },
  {
   "cell_type": "code",
   "execution_count": 18,
   "metadata": {},
   "outputs": [
    {
     "data": {
      "text/plain": [
       "203.5967248908297"
      ]
     },
     "execution_count": 18,
     "metadata": {},
     "output_type": "execute_result"
    }
   ],
   "source": [
    "complaints_df.company.value_counts().mean()"
   ]
  },
  {
   "cell_type": "code",
   "execution_count": 19,
   "metadata": {},
   "outputs": [
    {
     "data": {
      "text/plain": [
       "6.0"
      ]
     },
     "execution_count": 19,
     "metadata": {},
     "output_type": "execute_result"
    }
   ],
   "source": [
    "complaints_df.company.value_counts().median()"
   ]
  },
  {
   "cell_type": "code",
   "execution_count": null,
   "metadata": {},
   "outputs": [],
   "source": []
  },
  {
   "cell_type": "code",
   "execution_count": 11,
   "metadata": {
    "scrolled": false
   },
   "outputs": [
    {
     "data": {
      "text/plain": [
       "[1, 2, 3, 4, 5, 6, 7, 8, 9, 10, 11, 12]"
      ]
     },
     "execution_count": 11,
     "metadata": {},
     "output_type": "execute_result"
    }
   ],
   "source": [
    "list(set(complaints_df.index.month))"
   ]
  },
  {
   "cell_type": "code",
   "execution_count": 12,
   "metadata": {},
   "outputs": [],
   "source": [
    "def complaints_by_time(time_interval, stat):\n",
    "    df = complaints_df.groupby(complaints_df.index.time_interval).complaint_ID\n",
    "    return df.stat()"
   ]
  },
  {
   "cell_type": "code",
   "execution_count": 13,
   "metadata": {},
   "outputs": [
    {
     "data": {
      "text/plain": [
       "<matplotlib.axes._subplots.AxesSubplot at 0x14db5edd588>"
      ]
     },
     "execution_count": 13,
     "metadata": {},
     "output_type": "execute_result"
    },
    {
     "data": {
      "image/png": "[encoded data removed]",
      "text/plain": [
       "<matplotlib.figure.Figure at 0x14d99b33390>"
      ]
     },
     "metadata": {},
     "output_type": "display_data"
    }
   ],
   "source": [
    "complaints_df.groupby(complaints_df.index.month)['complaint_ID'].mean().astype('int').plot()"
   ]
  },
  {
   "cell_type": "code",
   "execution_count": 14,
   "metadata": {},
   "outputs": [
    {
     "data": {
      "text/plain": [
       "<matplotlib.axes._subplots.AxesSubplot at 0x14d9b292978>"
      ]
     },
     "execution_count": 14,
     "metadata": {},
     "output_type": "execute_result"
    },
    {
     "data": {
      "image/png": "[encoded data removed]",
      "text/plain": [
       "<matplotlib.figure.Figure at 0x14d99646da0>"
      ]
     },
     "metadata": {},
     "output_type": "display_data"
    }
   ],
   "source": [
    "complaints_df.resample('A').mean().plot()"
   ]
  },
  {
   "cell_type": "code",
   "execution_count": null,
   "metadata": {},
   "outputs": [],
   "source": []
  }
 ],
 "metadata": {
  "kernelspec": {
   "display_name": "Python 3",
   "language": "python",
   "name": "python3"
  },
  "language_info": {
   "codemirror_mode": {
    "name": "ipython",
    "version": 3
   },
   "file_extension": ".py",
   "mimetype": "text/x-python",
   "name": "python",
   "nbconvert_exporter": "python",
   "pygments_lexer": "ipython3",
   "version": "3.6.3"
  }
 },
 "nbformat": 4,
 "nbformat_minor": 2
}
